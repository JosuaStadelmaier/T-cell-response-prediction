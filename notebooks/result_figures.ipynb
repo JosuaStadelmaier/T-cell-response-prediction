{
 "cells": [
  {
   "cell_type": "markdown",
   "id": "62188462-561c-4b1b-9d30-193b2d23d971",
   "metadata": {},
   "source": [
    "# T-cell response model evaluation\n",
    "This notebook contains the code to generate the figures for the evaluation of the T-cell response model and the benchmark against existing models."
   ]
  },
  {
   "cell_type": "code",
   "execution_count": 1,
   "id": "f50ccc41-e7f9-4bc5-addc-c10157fd5cc2",
   "metadata": {},
   "outputs": [],
   "source": [
    "import os\n",
    "import numpy as np\n",
    "import pandas as pd\n",
    "import matplotlib.pyplot as plt\n",
    "from sklearn.metrics import average_precision_score, roc_auc_score\n",
    "import scipy.stats"
   ]
  },
  {
   "cell_type": "code",
   "execution_count": 3,
   "id": "129dbfa1-c071-4cf7-b50b-248b67536cc0",
   "metadata": {
    "tags": []
   },
   "outputs": [],
   "source": [
    "# load the evaluation scripts from the code directory, which are also used during training\n",
    "%load ../code/evaluation.py"
   ]
  },
  {
   "cell_type": "markdown",
   "source": [
    "## Plotting helper functions"
   ],
   "metadata": {
    "collapsed": false
   },
   "id": "85db4d4c8de88f77"
  },
  {
   "cell_type": "code",
   "execution_count": 2,
   "outputs": [],
   "source": [
    "from matplotlib import rcParams\n",
    "rcParams['font.family'] = 'sans-serif'\n",
    "rcParams['font.sans-serif'] = ['Helvetica']\n",
    "rcParams['axes.titlepad'] = 15\n",
    "rcParams.update({'font.size': 17})"
   ],
   "metadata": {
    "collapsed": false
   },
   "id": "3edca16a2c6f60c0"
  },
  {
   "cell_type": "code",
   "execution_count": 5,
   "outputs": [],
   "source": [
    "def hplot_results(results, metric, title, size, aggregation='mean', x_pos=None, y_lim=None, err_bars=True, err_text=False, label_rotation=0, text_shift=0.005, vline=None, display_sizes=True, display_text=True, color=None, strength=0.8, hide_xticklabels=False):\n",
    "    results_r = list(reversed(results))\n",
    "    # results = [(x_label, eval_type, results_dict), ...]\n",
    "    x_pos = list(range(len(results_r))) if x_pos is None else x_pos\n",
    "    if display_sizes:\n",
    "        x_labels = [f\"{x_label} - {result[metric][eval_type]['skipped_count']/(result[metric][eval_type]['skipped_count']+result[metric][eval_type]['count']):.0%} skipped\" for x_label, eval_type, result in results_r]\n",
    "    else:\n",
    "        x_labels = [f\"{x_label}\" for x_label, eval_type, result in results_r]\n",
    "        skipped_count_sum = sum([result[metric][eval_type]['skipped_count'] for _, eval_type, result in results_r if 'skipped_count' in result[metric][eval_type]])\n",
    "        if skipped_count_sum > 0:\n",
    "            # print(f'{skipped_count_sum} peptides have been skipped.')\n",
    "            pass\n",
    "    mean_scores = [results_dict[metric][eval_type][aggregation] for _, eval_type, results_dict in results_r]\n",
    "    errs = [results_dict[metric][eval_type]['sem'] for _, eval_type, results_dict in results_r] if err_bars else None\n",
    "    fig, ax = plt.subplots(figsize=size)\n",
    "    ax.barh(x_pos, mean_scores, height=strength, xerr=errs, align='center', alpha=1, ecolor='black', capsize=8, color=color)\n",
    "    ax.set_xlabel(metric)\n",
    "    ax.set_yticks(x_pos)\n",
    "    ax.set_yticklabels(x_labels, rotation=label_rotation)\n",
    "    if hide_xticklabels:\n",
    "        ax.set_xticks([0.4, 0.45, 0.5, 0.55, 0.6, 0.65, 0.7])\n",
    "        ax.set_xticklabels([])\n",
    "    else:\n",
    "        ax.set_xticks([0.4, 0.45, 0.5, 0.55, 0.6, 0.65, 0.7])\n",
    "        ax.set_xticklabels(['0.4', '0.45', '0.5', '0.55', '0.6', '0.65', '0.7'])\n",
    "    ax.set_title(title)\n",
    "    if metric == 'ROC AUC' and y_lim is None:\n",
    "        ax.set_xlim(0.4, 0.9)\n",
    "    elif y_lim is None:\n",
    "        ax.set_xlim(0, 0.9)\n",
    "    else:\n",
    "        ax.set_xlim(y_lim)\n",
    "    ax.xaxis.grid(True)\n",
    "    for i in range(len(mean_scores)):\n",
    "        text_pos = mean_scores[i] + text_shift\n",
    "        if err_bars:\n",
    "            text_pos += errs[i]\n",
    "        if err_bars and err_text:\n",
    "            text = f'{mean_scores[i]:.4f} ± {errs[i]:.3f}'\n",
    "        else:\n",
    "            text = f'{mean_scores[i]:.4f}'\n",
    "        if display_text:\n",
    "            plt.text(text_pos, x_pos[i], text, color='black', va='center', fontweight='bold', fontsize=20)\n",
    "    if vline is not None:\n",
    "        plt.axvline(x=vline, color='black', linewidth=1)\n",
    "    plt.tight_layout()\n",
    "    # plt.show()"
   ],
   "metadata": {
    "collapsed": false
   },
   "id": "f6fee3faa7080683"
  },
  {
   "cell_type": "code",
   "execution_count": 21,
   "outputs": [],
   "source": [
    "def hplot_results_pairs(results_1, results_2, labels, metric, title, size, aggregation='mean', x_pos=None, y_lim=None, err_bars=True, err_text=False, label_rotation=0, text_shift=0.005, vline=None, legend_loc='upper right', display_text=True, legend=True, colors=('tab:blue', 'tab:green'), hide_xticklabels=False):\n",
    "    results_1_list, results_1_label = results_1\n",
    "    results_2_list, results_2_label = results_2\n",
    "    results_1_list_r = list(reversed(results_1_list))\n",
    "    results_2_list_r = list(reversed(results_2_list))\n",
    "    labels_r = list(reversed(labels))\n",
    "    # results_list = [(x_label, eval_type, results_dict), ...]\n",
    "    y_pos = np.array(list(range(len(results_1_list))) if x_pos is None else x_pos)\n",
    "    \n",
    "    mean_scores_1 = [results_dict[metric][eval_type][aggregation] for _, eval_type, results_dict in results_1_list_r]\n",
    "    mean_scores_2 = [results_dict[metric][eval_type][aggregation] for _, eval_type, results_dict in results_2_list_r]\n",
    "    errs_1 = [results_dict[metric][eval_type]['sem'] for _, eval_type, results_dict in results_1_list_r] if err_bars else None\n",
    "    errs_2 = [results_dict[metric][eval_type]['sem'] for _, eval_type, results_dict in results_2_list_r] if err_bars else None\n",
    "    fig, ax = plt.subplots(figsize=size)\n",
    "    height = 0.4\n",
    "    color1, color2 = colors\n",
    "    ax.barh(y_pos + height/2, mean_scores_1, height, xerr=errs_1, align='center', alpha=1, color=color1, ecolor='black', capsize=7, label=results_1_label)\n",
    "    ax.barh(y_pos - height/2, mean_scores_2, height, xerr=errs_2, align='center', alpha=1, color=color2, ecolor='black', capsize=7, label=results_2_label)\n",
    "    ax.set_xlabel(metric)\n",
    "    ax.set_yticks(y_pos)\n",
    "    ax.set_yticklabels(labels_r, rotation=label_rotation)\n",
    "    if hide_xticklabels:\n",
    "        ax.set_xticklabels(['',]*len(list(ax.get_xticklabels())))\n",
    "    ax.set_title(title)\n",
    "    if metric == 'ROC AUC' and y_lim is None:\n",
    "        ax.set_xlim(0.4, 0.9)\n",
    "    elif y_lim is None:\n",
    "        ax.set_xlim(0, 0.9)\n",
    "    else:\n",
    "        ax.set_xlim(y_lim)\n",
    "    ax.xaxis.grid(True)\n",
    "    for i in range(len(mean_scores_1)):\n",
    "        text_pos_1 = mean_scores_1[i] + text_shift\n",
    "        text_pos_2 = mean_scores_2[i] + text_shift\n",
    "        if err_bars:\n",
    "            text_pos_1 += errs_1[i]\n",
    "            text_pos_2 += errs_2[i]\n",
    "        if err_bars and err_text:\n",
    "            text_1 = f'{mean_scores_1[i]:.3f} ± {errs_1[i]:.3f}'\n",
    "            text_2 = f'{mean_scores_2[i]:.3f} ± {errs_2[i]:.3f}'\n",
    "        else:\n",
    "            text_1 = f'{mean_scores_1[i]:.3f}'\n",
    "            text_2 = f'{mean_scores_2[i]:.3f}'\n",
    "        if display_text:\n",
    "            plt.text(text_pos_1, y_pos[i] + height/2 - 0.04, text_1, color='black', va='center', fontweight='bold', fontsize=19)\n",
    "            plt.text(text_pos_2, y_pos[i] - height/2 - 0.04, text_2, color='black', va='center', fontweight='bold', fontsize=19)\n",
    "    if vline is not None:\n",
    "        plt.axvline(x=vline, color='black', linewidth=1)\n",
    "    \n",
    "    if legend:\n",
    "        ax.legend(loc=legend_loc)\n",
    "    \n",
    "    plt.tight_layout()\n",
    "    # plt.show()"
   ],
   "metadata": {
    "collapsed": false
   },
   "id": "9800adacbaf92130"
  },
  {
   "cell_type": "code",
   "execution_count": 22,
   "outputs": [],
   "source": [
    "def hplot_results_triples(results_1, results_2, results_3, labels, metric, title, size, aggregation='mean', x_pos=None, y_lim=None, err_bars=True, err_text=False, label_rotation=0, text_shift=0.005, vline=None, legend_loc='upper right', display_text=True, legend=True):\n",
    "    results_1_list, results_1_label = results_1\n",
    "    results_2_list, results_2_label = results_2\n",
    "    results_3_list, results_3_label = results_3\n",
    "    results_1_list_r = list(reversed(results_1_list))\n",
    "    results_2_list_r = list(reversed(results_2_list))\n",
    "    results_3_list_r = list(reversed(results_3_list))\n",
    "    labels_r = list(reversed(labels))\n",
    "    # results_list = [(x_label, eval_type, results_dict), ...]\n",
    "    y_pos = np.array(list(range(len(results_1_list))) if x_pos is None else x_pos)\n",
    "    \n",
    "    mean_scores_1 = [results_dict[metric][eval_type][aggregation] for _, eval_type, results_dict in results_1_list_r]\n",
    "    mean_scores_2 = [results_dict[metric][eval_type][aggregation] for _, eval_type, results_dict in results_2_list_r]\n",
    "    mean_scores_3 = [results_dict[metric][eval_type][aggregation] for _, eval_type, results_dict in results_3_list_r]\n",
    "    errs_1 = [results_dict[metric][eval_type]['sem'] for _, eval_type, results_dict in results_1_list_r] if err_bars else None\n",
    "    errs_2 = [results_dict[metric][eval_type]['sem'] for _, eval_type, results_dict in results_2_list_r] if err_bars else None\n",
    "    errs_3 = [results_dict[metric][eval_type]['sem'] for _, eval_type, results_dict in results_3_list_r] if err_bars else None\n",
    "    fig, ax = plt.subplots(figsize=size)\n",
    "    height = 0.3\n",
    "    ax.barh(y_pos + height, mean_scores_1, height, xerr=errs_1, align='center', alpha=1, ecolor='black', capsize=7, label=results_1_label)\n",
    "    ax.barh(y_pos, mean_scores_2, height, xerr=errs_2, align='center', alpha=1, ecolor='black', capsize=7, label=results_2_label)\n",
    "    ax.barh(y_pos - height, mean_scores_3, height, xerr=errs_3, align='center', alpha=1, ecolor='black', capsize=7, label=results_3_label)\n",
    "    ax.set_xlabel(metric)\n",
    "    ax.set_yticks(y_pos)\n",
    "    ax.set_yticklabels(labels_r, rotation=label_rotation)\n",
    "    ax.set_title(title)\n",
    "    if metric == 'ROC AUC' and y_lim is None:\n",
    "        ax.set_xlim(0.4, 0.9)\n",
    "    elif y_lim is None:\n",
    "        ax.set_xlim(0, 0.9)\n",
    "    else:\n",
    "        ax.set_xlim(y_lim)\n",
    "    ax.xaxis.grid(True)\n",
    "    for i in range(len(mean_scores_1)):\n",
    "        text_pos_1 = mean_scores_1[i] + text_shift\n",
    "        text_pos_2 = mean_scores_2[i] + text_shift\n",
    "        text_pos_3 = mean_scores_3[i] + text_shift\n",
    "        if err_bars:\n",
    "            text_pos_1 += errs_1[i]\n",
    "            text_pos_2 += errs_2[i]\n",
    "            text_pos_3 += errs_3[i]\n",
    "        if err_bars and err_text:\n",
    "            text_1 = f'{mean_scores_1[i]:.3f} ± {errs_1[i]:.3f}'\n",
    "            text_2 = f'{mean_scores_2[i]:.3f} ± {errs_2[i]:.3f}'\n",
    "            text_3 = f'{mean_scores_3[i]:.3f} ± {errs_3[i]:.3f}'\n",
    "        else:\n",
    "            text_1 = f'{mean_scores_1[i]:.3f}'\n",
    "            text_2 = f'{mean_scores_2[i]:.3f}'\n",
    "            text_3 = f'{mean_scores_3[i]:.3f}'\n",
    "        if display_text:\n",
    "            plt.text(text_pos_1, y_pos[i] + height, text_1, color='black', va='center', fontweight='bold', fontsize=19)\n",
    "            plt.text(text_pos_2, y_pos[i], text_2, color='black', va='center', fontweight='bold', fontsize=19)\n",
    "            plt.text(text_pos_3, y_pos[i] - height, text_3, color='black', va='center', fontweight='bold', fontsize=19)\n",
    "    if vline is not None:\n",
    "        plt.axvline(x=vline, color='black', linewidth=1)\n",
    "    \n",
    "    if legend:\n",
    "        ax.legend(loc=legend_loc)\n",
    "    \n",
    "    plt.tight_layout()\n",
    "    # plt.show()"
   ],
   "metadata": {
    "collapsed": false
   },
   "id": "f29397c38d1a64b5"
  },
  {
   "cell_type": "markdown",
   "source": [
    "## Evaluation functions for computing cross-validation results"
   ],
   "metadata": {
    "collapsed": false
   },
   "id": "55baeae64cbcc7f9"
  },
  {
   "cell_type": "code",
   "execution_count": 12,
   "outputs": [],
   "source": [
    "def read_valid_results(experiment_name, outer_fold=None):\n",
    "    results_dir = f'../valid_results_cv/{experiment_name}'\n",
    "    df_list = []\n",
    "    for result_file in os.listdir(results_dir):\n",
    "        if '.pkl' in result_file:\n",
    "            inner_fold = result_file[-5]\n",
    "            df = pd.read_pickle(results_dir + '/' + result_file)\n",
    "            df['inner_fold'] = inner_fold\n",
    "            df_list.append(df)\n",
    "    results_df = pd.concat(df_list)\n",
    "    if outer_fold is not None:\n",
    "        results_df = results_df.loc[results_df['outer_fold'] == outer_fold]\n",
    "    return results_df"
   ],
   "metadata": {
    "collapsed": false
   },
   "id": "fc7b1694ae62f439"
  },
  {
   "cell_type": "code",
   "execution_count": 13,
   "outputs": [],
   "source": [
    "def read_test_results(experiment_name, outer_fold=None):\n",
    "    results_dir = f'../test_results/{experiment_name}'\n",
    "    df_list = []\n",
    "    for result_file in os.listdir(results_dir):\n",
    "        if '.pkl' in result_file:\n",
    "            df = pd.read_pickle(results_dir + '/' + result_file)\n",
    "            df_list.append(df)\n",
    "    results_df = pd.concat(df_list)\n",
    "    return results_df"
   ],
   "metadata": {
    "collapsed": false
   },
   "id": "f57ddc3f9fc43e35"
  },
  {
   "cell_type": "code",
   "execution_count": 4,
   "id": "1c93a1c7-3eea-46dc-a2cf-59e8fd2a8f3c",
   "metadata": {},
   "outputs": [],
   "source": [
    "def combine_fold_results(results_list):\n",
    "    combined_dict = {}\n",
    "    for result_dict in results_list:\n",
    "        outer_fold = result_dict['outer_fold']\n",
    "        for eval_type, fold_result in result_dict.items():\n",
    "            if eval_type != 'outer_fold':\n",
    "                fold_result['outer_fold'] = outer_fold\n",
    "                combined_dict.setdefault(eval_type, []).append(fold_result)\n",
    "    combined_results = {'ROC AUC': {}, 'AP': {}}\n",
    "    for metric in combined_results.keys():\n",
    "        for eval_type, fold_results in combined_dict.items():\n",
    "            instance_count = sum([results['count'] for results in fold_results])\n",
    "            skipped_instance_count = sum([results['skipped_count'] for results in fold_results])\n",
    "            if instance_count == 0:\n",
    "                weighted_mean, mean, sem = None, None, None\n",
    "                per_fold_results = {}\n",
    "            else:\n",
    "                weighted_mean = sum([results[metric] * results['count'] for results in fold_results if results['count'] > 0]) / instance_count\n",
    "                mean = np.mean([results[metric] for results in fold_results if results['count'] > 0])\n",
    "                sem = scipy.stats.sem([results[metric] for results in fold_results if results['count'] > 0])\n",
    "                per_fold_results = {f'fold_{results[\"outer_fold\"]}': results[metric] for results in fold_results}\n",
    "            combined_results[metric][eval_type] = {**per_fold_results, 'mean': mean, 'weighted_mean': weighted_mean, 'sem': sem, 'count': instance_count, 'skipped_count': skipped_instance_count}\n",
    "    return combined_results"
   ]
  },
  {
   "cell_type": "code",
   "execution_count": 16,
   "id": "9bcb096d-db42-40db-8846-9799a7dca7ee",
   "metadata": {},
   "outputs": [],
   "source": [
    "def get_parameter_set(results_df, best_result, hyperparams):\n",
    "    value_counts = results_df.nunique()\n",
    "    variable_params = value_counts.loc[value_counts > 1].index\n",
    "    parameter_selection_string = ''\n",
    "    parameter_selection = {}\n",
    "    for param in set(variable_params) & set(hyperparams):\n",
    "        param_values = ', '.join(map(str, results_df[param].unique()))\n",
    "        parameter_selection_string += f'{param}: {param_values} -> {best_result[\"params\"][param]}\\n\\n'\n",
    "        parameter_selection[param] = best_result[\"params\"][param]\n",
    "    return parameter_selection_string, parameter_selection"
   ]
  },
  {
   "cell_type": "code",
   "execution_count": 17,
   "id": "a865d240-b358-4bc5-9da4-8094e68cfd61",
   "metadata": {},
   "outputs": [],
   "source": [
    "def get_param_sensitivity(results_df, group_by, selected_metric, hyperparams):\n",
    "    value_counts = results_df.nunique()\n",
    "    variable_params = set(value_counts.loc[value_counts > 1].index) & set(hyperparams)\n",
    "    sensitivity_dict = {}\n",
    "    for variable_param in variable_params:\n",
    "        grouped_results = results_df.groupby([variable_param])\n",
    "        sensitivity_dict[variable_param] = {}\n",
    "        for param_value, df in grouped_results:\n",
    "            best_result = df.loc[df[selected_metric].idxmax()]\n",
    "            sensitivity_dict[variable_param][best_result[variable_param]] = {\n",
    "                'score': best_result[selected_metric], 'sem': best_result[f'SEM - {selected_metric}']}\n",
    "    return sensitivity_dict"
   ]
  },
  {
   "cell_type": "code",
   "execution_count": 18,
   "id": "8242cdf2-7837-4a90-b6cc-f3f4f2f69c27",
   "metadata": {},
   "outputs": [],
   "source": [
    "def get_best_param_sensitivity(results_df, best_result, selected_metric, hyperparams):\n",
    "    value_counts = results_df.nunique()\n",
    "    variable_params = list(set(value_counts.loc[value_counts > 1].index) & set(hyperparams))\n",
    "    sensitivity_dict = {}\n",
    "    best_result_params = best_result[variable_params].values\n",
    "    for i in range(len(variable_params)):\n",
    "        variable_param = variable_params[i]\n",
    "        sensitivity_dict[variable_param] = {}\n",
    "        best_result_param = best_result[variable_params].values\n",
    "        variable_param_values = results_df[variable_param].unique()\n",
    "        for param_value in variable_param_values:\n",
    "            best_result_param[i] = param_value\n",
    "            selected_result = results_df.loc[(results_df[variable_params].values == best_result_param).all(1)]\n",
    "            if len(selected_result) == 1:\n",
    "                selected_result = selected_result.iloc[0]\n",
    "                sensitivity_dict[variable_param][param_value] = {\n",
    "                    'score': selected_result[selected_metric], 'sem': selected_result[f'SEM - {selected_metric}']}\n",
    "            else:\n",
    "                print(f'selected_result for {variable_param}: {param_value} has {len(selected_result)} entries')\n",
    "    return sensitivity_dict"
   ]
  },
  {
   "cell_type": "code",
   "execution_count": 19,
   "id": "7bf7ddd9-35f1-4861-85f9-8cbdcd1764a0",
   "metadata": {},
   "outputs": [],
   "source": [
    "def get_result_dict(result_series):\n",
    "    overall_result_dict = result_series.to_dict()\n",
    "    result_dict = {eval_type: result for eval_type, result in overall_result_dict.items() if 'ROC AUC' in eval_type or 'AP' in eval_type}\n",
    "    param_dict = {param: value for param, value in overall_result_dict.items() if 'ROC AUC' not in param and 'AP' not in param}\n",
    "    results = {'params': param_dict, 'ROC AUC': {}, 'AP': {}}\n",
    "    for eval_type_combined, result in result_dict.items():\n",
    "        if 'ROC AUC' in eval_type_combined:\n",
    "            eval_type = eval_type_combined.replace('ROC AUC - ', '')\n",
    "            metric = 'ROC AUC'\n",
    "        else:\n",
    "            eval_type = eval_type_combined.replace('AP - ', '')\n",
    "            metric = 'AP'\n",
    "        \n",
    "        if eval_type_combined.startswith(f'Count - {metric}'):\n",
    "            eval_type = eval_type.replace('Count - ', '')\n",
    "            results[metric].setdefault(eval_type, {})\n",
    "            results[metric][eval_type]['count'] = result\n",
    "        elif eval_type_combined.startswith(f'SEM - {metric}'):\n",
    "            eval_type = eval_type.replace('SEM - ', '')\n",
    "            results[metric].setdefault(eval_type, {})\n",
    "            results[metric][eval_type]['sem'] = result\n",
    "        elif eval_type_combined.startswith(f'Skipped count - {metric}'):\n",
    "            eval_type = eval_type.replace('Skipped count - ', '')\n",
    "            results[metric].setdefault(eval_type, {})\n",
    "            results[metric][eval_type]['skipped_count'] = result\n",
    "        elif eval_type_combined.startswith(metric):\n",
    "            results[metric].setdefault(eval_type, {})\n",
    "            results[metric][eval_type]['mean'] = result\n",
    "    return results                                                                                 "
   ]
  },
  {
   "cell_type": "code",
   "execution_count": 24,
   "id": "c32e58f1-844e-4920-8e81-5567eb88f138",
   "metadata": {},
   "outputs": [],
   "source": [
    "# best hyperparams per subset as input\n",
    "# take mean over random seeds\n",
    "# combine subsets\n",
    "# take mean over folds\n",
    "\n",
    "def get_inner_cv_results(results_df, average_over=['random_seed'], subset_selection=None, group_by=None):\n",
    "    results_df = results_df.dropna(axis=1, how='all')\n",
    "    value_counts = results_df.nunique()\n",
    "    variable_params = value_counts.loc[value_counts > 1].index\n",
    "    hyperparams = [col for col in results_df.columns\n",
    "                   if 'ROC AUC -' not in col and 'AP -' not in col and 'Loss/' not in col and 'loss/' not in col and 'early_stop_epochs' not in col\n",
    "                   and '_file' not in col and '_dir' not in col and col != 'config_id' and col != 'training_time'\n",
    "                   and col not in average_over and col != 'description']\n",
    "    result_metrics = [col for col in results_df.columns if 'ROC AUC -' in col or 'AP -' in col or col == 'early_stop_epochs']\n",
    "    count_metrics = [col for col in results_df.columns if 'Count - ' in col]\n",
    "    \n",
    "    hyperparams = results_df[hyperparams].columns[~results_df[hyperparams].isna().any()].tolist()\n",
    "    group_by_params = hyperparams\n",
    "        \n",
    "    # select subset based on hyperparameters\n",
    "    if subset_selection is not None:\n",
    "        attribute, value = subset_selection\n",
    "        results_df = results_df.loc[results_df[attribute] == value]\n",
    "    \n",
    "    # take the mean over all inner folds with the same configuration\n",
    "    grouped_results = results_df.groupby(group_by_params)\n",
    "    mean_results_list = []\n",
    "    for _, df in grouped_results:\n",
    "        mean_results = df[result_metrics].mean()\n",
    "        aggregated_params = df[group_by_params].iloc[0]\n",
    "        result_series = pd.concat([aggregated_params, mean_results])\n",
    "        mean_results_list.append(result_series)\n",
    "    \n",
    "    seed_avg_results = pd.DataFrame(mean_results_list, columns=group_by_params+result_metrics)\n",
    "\n",
    "    # take the mean over the random folds\n",
    "    group_by_params.remove('inner_fold')\n",
    "    sem_names = [f'SEM - {metric}' for metric in result_metrics]\n",
    "    count_sum_names = [f'SUM - {metric}' for metric in count_metrics]\n",
    "    mean_results_list = []\n",
    "    grouped_results = seed_avg_results.groupby(group_by_params)\n",
    "    for _, df in grouped_results:\n",
    "        mean_results = df[result_metrics].mean()\n",
    "        sem = df[result_metrics].sem(axis=0)\n",
    "        sem.index = sem_names\n",
    "        count_sum = df[count_metrics].sum(axis=0)\n",
    "        count_sum.index = count_sum_names\n",
    "        aggregated_params = df[group_by_params].iloc[0]\n",
    "        result_series = pd.concat([aggregated_params, mean_results, sem, count_sum])\n",
    "        mean_results_list.append(result_series)\n",
    "    fold_avg_results = pd.DataFrame(mean_results_list, columns=group_by_params+result_metrics+sem_names+count_sum_names)\n",
    "    \n",
    "    # select best hyperparameter combination\n",
    "    # selected_metric = 'ROC AUC - MHC I+II - MHC+source corrected - no defaults/Validation\n",
    "    \n",
    "    if group_by is not None:\n",
    "        grouped_results = fold_avg_results.groupby(group_by)\n",
    "        best_results = {}\n",
    "        for param_value, df in grouped_results:\n",
    "            selected_metrics = [metric for metric in set(df.dropna(axis=1, how='all').columns) & set(result_metrics) if 'Selected metric' in metric]\n",
    "            if len(selected_metrics) != 1:\n",
    "                print(selected_metrics)\n",
    "            selected_metric = selected_metrics[0]\n",
    "            best_result_df = df.loc[df[selected_metric].idxmax()]\n",
    "            best_result_dict = get_result_dict(best_result_df)\n",
    "            param_set_string, param_set = get_parameter_set(fold_avg_results, best_result_dict, group_by_params)\n",
    "            best_result_dict['param_set_string'] = param_set_string\n",
    "            best_result_dict['param_set'] = param_set\n",
    "            \n",
    "            param_sensitivity = get_param_sensitivity(df, group_by_params, selected_metric, hyperparams)\n",
    "            best_param_sensitivity = get_best_param_sensitivity(df, best_result_df, selected_metric, set(hyperparams)-set(group_by))\n",
    "            best_result_dict['param_sensitivity'] = param_sensitivity\n",
    "            best_result_dict['best_param_sensitivity'] = best_param_sensitivity\n",
    "            best_result_dict['selected_metric'] = selected_metric\n",
    "            \n",
    "            best_result_dict['df'] = best_result_df\n",
    "            best_result_params = best_result_df[group_by_params].values\n",
    "            best_result_dict['seed_avg_df'] = seed_avg_results.loc[(seed_avg_results[group_by_params].values == best_result_params).all(1)]\n",
    "            \n",
    "            \n",
    "            best_results[param_value] = best_result_dict\n",
    "        return best_results\n",
    "    else:\n",
    "        selected_metrics = [metric for metric in set(fold_avg_results.dropna(axis=1, how='all').columns) & set(result_metrics) if 'Selected metric' in metric]\n",
    "        if len(selected_metrics) != 1:\n",
    "            print(selected_metrics)\n",
    "        selected_metric = selected_metrics[0]\n",
    "        best_result_df = fold_avg_results.loc[fold_avg_results[selected_metric].idxmax()]\n",
    "        best_result_dict = get_result_dict(best_result_df)\n",
    "        param_set_string, param_set = get_parameter_set(fold_avg_results, best_result_dict, group_by_params)\n",
    "        param_sensitivity = get_param_sensitivity(fold_avg_results, group_by_params, selected_metric, hyperparams)\n",
    "        best_param_sensitivity = get_best_param_sensitivity(fold_avg_results, best_result_df, selected_metric, hyperparams)\n",
    "        best_result_dict['param_sensitivity'] = param_sensitivity\n",
    "        best_result_dict['best_param_sensitivity'] = best_param_sensitivity\n",
    "        best_result_dict['param_set_string'] = param_set_string\n",
    "        best_result_dict['param_set'] = param_set\n",
    "        best_result_dict['selected_metric'] = selected_metric\n",
    "        return best_result_dict"
   ]
  },
  {
   "cell_type": "code",
   "execution_count": 107,
   "id": "79b50e46-42d6-449a-803e-f5f8316e65b4",
   "metadata": {},
   "outputs": [],
   "source": [
    "# best hyperparams per subset as input\n",
    "# take mean over random seeds\n",
    "# combine subsets\n",
    "# take mean over folds\n",
    "\n",
    "def combine_test_results(results_df, per_fold=False):\n",
    "    results_df = results_df.dropna(axis=1, how='all')\n",
    "    value_counts = results_df.nunique()\n",
    "    variable_params = value_counts.loc[value_counts > 1].index\n",
    "    hyperparams = [col for col in results_df.columns\n",
    "                   if 'ROC AUC -' not in col and 'AP -' not in col and 'Loss/' not in col and 'loss/' not in col and 'early_stop_epochs' not in col\n",
    "                   and '_file' not in col and '_dir' not in col and col != 'config_id' and col != 'training_time'\n",
    "                   and col != 'description' and col != 'random_seed']\n",
    "    result_metrics = [col for col in results_df.columns if 'ROC AUC -' in col or 'AP -' in col or col == 'early_stop_epochs']\n",
    "    count_metrics = [col for col in results_df.columns if 'Count - ' in col]\n",
    "    \n",
    "    hyperparams = results_df[hyperparams].columns[~results_df[hyperparams].isna().any()].tolist()\n",
    "    group_by_params = hyperparams + ['model_file']\n",
    "            \n",
    "    # take the mean over random seeds\n",
    "    grouped_results = results_df.groupby(group_by_params)\n",
    "    \n",
    "    # print('group_by_params', group_by_params)\n",
    "    mean_results_list = []\n",
    "    for _, df in grouped_results:\n",
    "        # print(len(df))\n",
    "        mean_results = df[result_metrics].mean()\n",
    "        aggregated_params = df[group_by_params].iloc[0]\n",
    "        result_series = pd.concat([aggregated_params, mean_results])\n",
    "        mean_results_list.append(result_series)\n",
    "    \n",
    "    # print('len(mean_results_list)', len(mean_results_list))\n",
    "    seed_avg_results = pd.DataFrame(mean_results_list, columns=group_by_params+result_metrics)\n",
    "\n",
    "    # print(seed_avg_results['ROC AUC - MHC I - MHC+source corrected - no defaults/Validation'].isna().sum())\n",
    "    transformed_dicts = [transform_dict(get_result_dict(seed_avg_results.iloc[i])) for i in range(len(seed_avg_results))]\n",
    "    \n",
    "    if per_fold:\n",
    "        return transformed_dicts\n",
    "    \n",
    "    return combine_fold_results(transformed_dicts)\n",
    "    \n",
    "    # take the mean over the random folds\n",
    "    sem_names = [f'SEM - {metric}' for metric in result_metrics]\n",
    "    count_sum_names = [f'SUM - {metric}' for metric in count_metrics]\n",
    "    \n",
    "    mean_results = seed_avg_results[result_metrics].mean()\n",
    "    print(seed_avg_results['ROC AUC - MHC I - MHC corrected - Human subset - no defaults/Test'].values)\n",
    "    sem = df[result_metrics].sem(axis=0)\n",
    "    sem.index = sem_names\n",
    "    count_sum = df[count_metrics].sum(axis=0)\n",
    "    count_sum.index = count_sum_names\n",
    "    aggregated_params = df[group_by_params].iloc[0]\n",
    "    result_series = pd.concat([aggregated_params, mean_results, sem, count_sum])\n",
    "        \n",
    "    test_result_dict = get_result_dict(result_series)\n",
    "    \n",
    "    return test_result_dict"
   ]
  },
  {
   "cell_type": "code",
   "execution_count": 26,
   "id": "a268768a-3aa9-49ed-a25b-c97258dcf4a7",
   "metadata": {},
   "outputs": [],
   "source": [
    "def transform_dict(result_dict):\n",
    "    new_dict = {}\n",
    "    for key in result_dict['ROC AUC'].keys():\n",
    "        new_dict[key] = {}\n",
    "        new_dict[key]['ROC AUC'] = result_dict['ROC AUC'][key]['mean']\n",
    "        new_dict[key]['AP'] = result_dict['AP'][key]['mean']\n",
    "        new_dict[key]['count'] = result_dict['AP'][key]['count']\n",
    "        new_dict[key]['skipped_count'] = result_dict['AP'][key]['skipped_count']\n",
    "    if 'params' in result_dict:\n",
    "        new_dict['outer_fold'] = result_dict['params']['model_file'][-5]\n",
    "    return new_dict"
   ]
  },
  {
   "cell_type": "markdown",
   "source": [
    "# Figure 3 a) BASE Transformer performance"
   ],
   "metadata": {
    "collapsed": false
   },
   "id": "3d51d8a462531dab"
  },
  {
   "cell_type": "code",
   "execution_count": 33,
   "id": "2f85bad1-d602-4d79-96d8-9a748e2ef6c3",
   "metadata": {},
   "outputs": [],
   "source": [
    "TransformerSourceDaGRL64DimLr = read_valid_results('TransformerSourceDaGRL64DimLr')\n",
    "TransformerSourceDaGRL64DimLr_Experiment_results = get_inner_cv_results(TransformerSourceDaGRL64DimLr, average_over=['random_seed'], group_by='pep_source_adversary_weight')"
   ]
  },
  {
   "cell_type": "code",
   "execution_count": 138,
   "id": "846694c6-a435-4b69-b54a-c67baab3cb84",
   "metadata": {
    "tags": []
   },
   "outputs": [
    {
     "data": {
      "image/png": "[encoded data removed]",
      "text/plain": [
       "<Figure size 532.8x201.6 with 1 Axes>"
      ]
     },
     "metadata": {
      "needs_background": "light"
     },
     "output_type": "display_data"
    }
   ],
   "source": [
    "selected_model_shortcuts = TransformerSourceDaGRL64DimLr_Experiment_results[0]\n",
    "vis_results = [\n",
    "    ('No adjustments', 'MHC I+II - no MHC+source defaults/Validation', selected_model_shortcuts),\n",
    "    ('Allele adjusted', 'MHC I+II - MHC corrected - no defaults/Validation', selected_model_shortcuts),\n",
    "    ('Source adjusted', 'MHC I+II - source corrected - no defaults/Validation', selected_model_shortcuts),\n",
    "    ('Both adjustments', 'MHC I+II - MHC+source corrected - no defaults/Validation', selected_model_shortcuts),        \n",
    "]\n",
    "hplot_results(vis_results, 'ROC AUC', '', (7.4, 2.8), 'mean', y_lim=(0.5, 0.77), display_sizes=False, err_text=True, display_text=False, strength=0.7)\n",
    "plt.xlabel('AUC')\n",
    "plt.savefig('../paper/figures/shortcut_evaluation_no_da.pdf', bbox_inches='tight')"
   ]
  },
  {
   "cell_type": "markdown",
   "id": "b5b34273-2c7e-4016-874a-2502c2bba7ca",
   "metadata": {},
   "source": [
    "# Figure 3 a) ADA Transformer performance"
   ]
  },
  {
   "cell_type": "code",
   "execution_count": 142,
   "id": "f6a406fb-f2a8-4bc5-a56d-130ce2afcfb7",
   "metadata": {
    "tags": []
   },
   "outputs": [
    {
     "data": {
      "image/png": "[encoded data removed]",
      "text/plain": [
       "<Figure size 532.8x201.6 with 1 Axes>"
      ]
     },
     "metadata": {
      "needs_background": "light"
     },
     "output_type": "display_data"
    }
   ],
   "source": [
    "selected_model_shortcuts = TransformerSourceDaGRL64DimLr_Experiment_results[10]\n",
    "vis_results = [\n",
    "    ('No adjustments', 'MHC I+II - no MHC+source defaults/Validation', selected_model_shortcuts),\n",
    "    ('Allele adjusted', 'MHC I+II - MHC corrected - no defaults/Validation', selected_model_shortcuts),\n",
    "    ('Source adjusted', 'MHC I+II - source corrected - no defaults/Validation', selected_model_shortcuts),\n",
    "    ('Both adjustments', 'MHC I+II - MHC+source corrected - no defaults/Validation', selected_model_shortcuts),        \n",
    "]\n",
    "hplot_results(vis_results, 'ROC AUC', '', (7.4, 2.8), 'mean', y_lim=(0.5, 0.77), display_sizes=False, err_text=True, display_text=False, strength=0.7)\n",
    "plt.xlabel('AUC')\n",
    "plt.savefig('../paper/figures/shortcut_evaluation_source_da.pdf', bbox_inches='tight')"
   ]
  },
  {
   "cell_type": "markdown",
   "source": [
    "# Figure 3 b) Prediction scores"
   ],
   "metadata": {
    "collapsed": false
   },
   "id": "a44924f6599ec35f"
  },
  {
   "cell_type": "code",
   "execution_count": 188,
   "outputs": [],
   "source": [
    "import pickle"
   ],
   "metadata": {
    "collapsed": false
   },
   "id": "e6a11ee87db0ea0e"
  },
  {
   "cell_type": "code",
   "execution_count": 189,
   "outputs": [],
   "source": [
    "def get_prediction_scores(file, epoch):\n",
    "    with open(file, 'rb') as f:\n",
    "        prediction_dict = pickle.load(f)\n",
    "        vaccinia_pos_min = prediction_dict['valid'][epoch]['Vaccinia pos']\n",
    "        vaccinia_neg_maj = prediction_dict['valid'][epoch]['Vaccinia neg']\n",
    "        betaherpes_pos_maj = prediction_dict['valid'][epoch]['Betaherpes pos']\n",
    "        betaherpes_neg_min = prediction_dict['valid'][epoch]['Betaherpes neg']\n",
    "        return vaccinia_pos_min, vaccinia_neg_maj, betaherpes_pos_maj, betaherpes_neg_min"
   ],
   "metadata": {
    "collapsed": false
   },
   "id": "496a2f13594c9354"
  },
  {
   "cell_type": "code",
   "execution_count": 190,
   "outputs": [],
   "source": [
    "vaccinia_pos_min, vaccinia_neg_maj, betaherpes_pos_maj, betaherpes_neg_min = get_prediction_scores('../visualization_data/DAVisPaper/prediction_scores_0.pkl', 190)"
   ],
   "metadata": {
    "collapsed": false
   },
   "id": "4f1eeeed55092274"
  },
  {
   "cell_type": "code",
   "execution_count": 191,
   "outputs": [],
   "source": [
    "grl_vaccinia_pos_min, grl_vaccinia_neg_maj, grl_betaherpes_pos_maj, grl_betaherpes_neg_min = get_prediction_scores('../visualization_data/DAVisPaper/prediction_scores_1.pkl', 240)"
   ],
   "metadata": {
    "collapsed": false
   },
   "id": "98e5d2b916aca40d"
  },
  {
   "cell_type": "code",
   "execution_count": 197,
   "outputs": [
    {
     "data": {
      "image/png": "[encoded data removed]",
      "text/plain": [
       "<Figure size 302.4x273.6 with 1 Axes>"
      ]
     },
     "metadata": {
      "needs_background": "light"
     },
     "output_type": "display_data"
    }
   ],
   "source": [
    "bins = np.linspace(0, 1.1, 30)\n",
    "fig, ax = plt.subplots(figsize=(4.2, 3.8))\n",
    "ax.set_ylim([0, 7])\n",
    "ax.set_xlim([-0.02, 1])\n",
    "ax.set_xticks([0.0, 0.2, 0.4, 0.6, 0.8, 1.])\n",
    "ax.set_yticks(range(8))\n",
    "\n",
    "ax.hist(vaccinia_pos_min, bins, alpha=0.5, label='Minority', density=True)\n",
    "ax.hist(betaherpes_pos_maj, bins, alpha=0.5, label='Majority', density=True)\n",
    "\n",
    "marker_1 = ax.plot([np.mean(vaccinia_pos_min),], [0.1,], '^', markersize=12, markeredgewidth=0.7, markeredgecolor='black', color='tab:blue', clip_on=False, zorder=10)[0]\n",
    "marker_2 = ax.plot([np.mean(betaherpes_pos_maj),], [0.1,], '^', markersize=12, markeredgewidth=0.7, markeredgecolor='black', color='tab:orange', clip_on=False, zorder=10)[0]\n",
    "# plt.legend(loc='upper center', fontsize=16)\n",
    "plt.xlabel('Prediction score')\n",
    "# plt.ylabel('Probability density')\n",
    "plt.title('Positives', fontsize=18)\n",
    "plt.savefig('../paper/figures/prediction_scores_wo_da_pos_3.pdf', bbox_inches='tight')"
   ],
   "metadata": {
    "collapsed": false
   },
   "id": "7bfc5a3e6cf552e4"
  },
  {
   "cell_type": "code",
   "execution_count": 198,
   "outputs": [
    {
     "data": {
      "image/png": "[encoded data removed]",
      "text/plain": [
       "<Figure size 302.4x273.6 with 1 Axes>"
      ]
     },
     "metadata": {
      "needs_background": "light"
     },
     "output_type": "display_data"
    }
   ],
   "source": [
    "bins = np.linspace(0, 1.1, 30)\n",
    "fig, ax = plt.subplots(figsize=(4.2, 3.8))\n",
    "ax.set_ylim([0, 7])\n",
    "ax.set_xlim([-0.02, 1])\n",
    "ax.set_xticks([0.0, 0.2, 0.4, 0.6, 0.8, 1.])\n",
    "ax.set_yticks(range(8))\n",
    "\n",
    "plt.hist(vaccinia_neg_maj, bins, alpha=0.5, label='Majority', density=True, color='tab:orange')\n",
    "plt.hist(betaherpes_neg_min, bins, alpha=0.5, label='Minority', density=True, color='tab:blue')\n",
    "marker_1 = ax.plot([np.mean(vaccinia_neg_maj),], [0.1,], '^', markersize=12, markeredgewidth=0.7, markeredgecolor='black', color='tab:orange', clip_on=False, zorder=10)[0]\n",
    "marker_2 = ax.plot([np.mean(betaherpes_neg_min),], [0.1,], '^', markersize=12, markeredgewidth=0.7, markeredgecolor='black', color='tab:blue', clip_on=False, zorder=10)[0]\n",
    "# plt.legend(fontsize=16)\n",
    "plt.xlabel('Prediction score')\n",
    "plt.title('Negatives', fontsize=18)\n",
    "plt.savefig('../paper/figures/prediction_scores_wo_da_neg_3.pdf', bbox_inches='tight')"
   ],
   "metadata": {
    "collapsed": false
   },
   "id": "430ffcfdc2b71b9e"
  },
  {
   "cell_type": "code",
   "execution_count": 199,
   "outputs": [
    {
     "data": {
      "image/png": "[encoded data removed]",
      "text/plain": [
       "<Figure size 302.4x273.6 with 1 Axes>"
      ]
     },
     "metadata": {
      "needs_background": "light"
     },
     "output_type": "display_data"
    }
   ],
   "source": [
    "bins = np.linspace(0, 1.1, 30)\n",
    "fig, ax = plt.subplots(figsize=(4.2, 3.8))\n",
    "ax.set_ylim([0, 7])\n",
    "ax.set_xlim([-0.02, 1])\n",
    "ax.set_xticks([0.0, 0.2, 0.4, 0.6, 0.8, 1.])\n",
    "ax.set_yticks(range(8))\n",
    "\n",
    "plt.hist(grl_vaccinia_pos_min, bins, alpha=0.5, label='Minority', density=True)\n",
    "plt.hist(grl_betaherpes_pos_maj, bins, alpha=0.5, label='Majority', density=True)\n",
    "\n",
    "marker_1 = ax.plot([np.mean(grl_vaccinia_pos_min),], [0.1,], '^', markersize=12, markeredgewidth=0.7, markeredgecolor='black', color='tab:blue', clip_on=False, zorder=10)[0]\n",
    "marker_2 = ax.plot([np.mean(grl_betaherpes_pos_maj),], [0.1,], '^', markersize=12, markeredgewidth=0.7, markeredgecolor='black', color='tab:orange', clip_on=False, zorder=10)[0]\n",
    "# plt.legend(loc='upper center', fontsize=16)\n",
    "plt.xlabel('Prediction score')\n",
    "plt.title('Positives', fontsize=18)\n",
    "plt.savefig('../paper/figures/prediction_scores_da_pos_3.pdf', bbox_inches='tight')"
   ],
   "metadata": {
    "collapsed": false
   },
   "id": "7a8441741caa7c9f"
  },
  {
   "cell_type": "code",
   "execution_count": 200,
   "outputs": [
    {
     "data": {
      "image/png": "[encoded data removed]",
      "text/plain": [
       "<Figure size 302.4x273.6 with 1 Axes>"
      ]
     },
     "metadata": {
      "needs_background": "light"
     },
     "output_type": "display_data"
    }
   ],
   "source": [
    "bins = np.linspace(0, 1.1, 30)\n",
    "fig, ax = plt.subplots(figsize=(4.2, 3.8))\n",
    "ax.set_ylim([0, 7])\n",
    "ax.set_xlim([-0.02, 1])\n",
    "ax.set_xticks([0.0, 0.2, 0.4, 0.6, 0.8, 1.])\n",
    "ax.set_yticks(range(8))\n",
    "\n",
    "plt.hist(grl_vaccinia_neg_maj, bins, alpha=0.5, label='Majority', density=True, color='tab:orange')\n",
    "plt.hist(grl_betaherpes_neg_min, bins, alpha=0.5, label='Minority', density=True, color='tab:blue')\n",
    "\n",
    "marker_1 = ax.plot([np.mean(grl_vaccinia_neg_maj),], [0.1,], '^', markersize=12, markeredgewidth=0.7, markeredgecolor='black', color='tab:orange', clip_on=False, zorder=10)[0]\n",
    "marker_2 = ax.plot([np.mean(grl_betaherpes_neg_min),], [0.1,], '^', markersize=12, markeredgewidth=0.7, markeredgecolor='black', color='tab:blue', clip_on=False, zorder=10)[0]\n",
    "# plt.legend(loc='upper center', fontsize=16)\n",
    "plt.xlabel('Prediction score')\n",
    "plt.title('Negatives', fontsize=18)\n",
    "plt.savefig('../paper/figures/prediction_scores_da_neg_3.pdf', bbox_inches='tight')"
   ],
   "metadata": {
    "collapsed": false
   },
   "id": "a1b18b85144f52b3"
  },
  {
   "cell_type": "markdown",
   "id": "043a262a-0e92-4b92-b333-4390b6635b24",
   "metadata": {},
   "source": [
    "# Figure 4 a)"
   ]
  },
  {
   "cell_type": "code",
   "execution_count": 187,
   "id": "c65aa5dd-388e-42d4-9289-56d8dad0b78b",
   "metadata": {},
   "outputs": [
    {
     "data": {
      "image/png": "[encoded data removed]",
      "text/plain": [
       "<Figure size 612x324 with 1 Axes>"
      ]
     },
     "metadata": {
      "needs_background": "light"
     },
     "output_type": "display_data"
    }
   ],
   "source": [
    "result_labels = ['Homo sapiens', 'unknown', 'Human betaherpesvirus 5', 'Hepacivirus C', 'Severe acute respiratory syndrome coronavirus 2']\n",
    "result_labels_short = ['Homo sapiens', 'Unspecified', '  Human betaherpesvirus 5', 'Hepacivirus C', 'SARS coronavirus 2']\n",
    "\n",
    "metric_string = 'MHC I - MHC corrected - no defaults/Validation'\n",
    "vis_results_multi_source = ([('', f'MHC I - {source}/Validation', TransformerMultiSourcePaperValidRe_results) for source in result_labels], 'BASE-T')\n",
    "vis_results_pretraining = ([('', metric_string, TransformerPretrainedOneSourcePaperValidReI_results[source]) for source in result_labels], 'FINE-T')\n",
    "\n",
    "\n",
    "hplot_results_pairs(vis_results_multi_source, vis_results_pretraining, result_labels_short, 'ROC AUC', 'MHC class I', (8.5, 4.5), 'mean', x_pos=None, y_lim=(0.45, 0.78), err_text=True, display_text=False, legend=True)\n",
    "plt.xlabel('AUC')\n",
    "plt.savefig('../paper/figures/valid_multi_source_base_pre_I_fine.pdf', bbox_inches='tight')"
   ]
  },
  {
   "cell_type": "markdown",
   "id": "2b09938f-43ee-4480-a74d-bca2dca8c094",
   "metadata": {},
   "source": [
    "# Figure 4 b)"
   ]
  },
  {
   "cell_type": "code",
   "execution_count": 185,
   "id": "8016e370-4dbb-4ab7-a953-a0bcc366ab37",
   "metadata": {},
   "outputs": [
    {
     "data": {
      "image/png": "[encoded data removed]",
      "text/plain": [
       "<Figure size 612x324 with 1 Axes>"
      ]
     },
     "metadata": {
      "needs_background": "light"
     },
     "output_type": "display_data"
    }
   ],
   "source": [
    "result_labels = ['Homo sapiens', 'Human betaherpesvirus 6B', 'Dengue virus', 'Phleum pratense', 'Severe acute respiratory syndrome coronavirus 2']\n",
    "result_labels_short = ['Homo sapiens', 'Human betaherpesvirus 6B', 'Dengue virus', 'Phleum pratense', 'SARS coronavirus 2']\n",
    "\n",
    "metric_string = 'MHC II - MHC corrected - no defaults/Validation'\n",
    "vis_results_multi_source = ([('', f'MHC II - {source}/Validation', TransformerMultiSourcePaperValidRe_results) for source in result_labels], 'Multi-source')\n",
    "vis_results_pretraining = ([('', metric_string, TransformerPretrainedOneSourcePaperValidReII_results[source]) for source in result_labels], 'With pretraining')\n",
    "\n",
    "hplot_results_pairs(vis_results_multi_source, vis_results_pretraining, result_labels_short, 'ROC AUC', 'MHC class II', (8.5, 4.5), 'mean', x_pos=None, y_lim=(0.45, 0.78), err_text=True, display_text=False, legend=False)\n",
    "plt.xlabel('AUC')\n",
    "plt.savefig('../paper/figures/valid_multi_source_base_pre_II_fine.pdf', bbox_inches='tight')"
   ]
  },
  {
   "cell_type": "markdown",
   "id": "59b0410d-ae82-4261-adcb-e65d11c9cd46",
   "metadata": {},
   "source": [
    "# Figure 5 - Human peptides test performance"
   ]
  },
  {
   "cell_type": "code",
   "execution_count": 8,
   "outputs": [],
   "source": [
    "def load_test_data(model_name, results_dir):\n",
    "    prediction_df_list = []\n",
    "    for i in range(5):\n",
    "        prediction_df = pd.read_csv(f'../{results_dir}/{model_name}/test_outer_{i}.csv', index_col=0, low_memory=False)\n",
    "        prediction_df_list.append((i, prediction_df))\n",
    "    return prediction_df_list"
   ],
   "metadata": {
    "collapsed": false
   },
   "id": "5490bb1fafb07db1"
  },
  {
   "cell_type": "code",
   "execution_count": 153,
   "outputs": [],
   "source": [
    "netmhc_prediction_df_list = load_test_data('ExternalTest', 'test_results')\n",
    "NetMHC_I_predictions_merged = pd.read_csv('NetMHC_I_predictions_merged.csv', index_col=False, low_memory=False)\n",
    "NetMHC_II_predictions_merged = pd.read_csv('NetMHC_II_predictions_merged.csv', index_col=False, low_memory=False)\n",
    "netmhc_dict = {'I': {}, 'II': {}}\n",
    "for peptide, peptide_df in NetMHC_I_predictions_merged.groupby(['peptide']):\n",
    "    netmhc_dict['I'][peptide] = peptide_df['percentile_rank'].min()\n",
    "for peptide, peptide_df in NetMHC_II_predictions_merged.groupby(['peptide']):\n",
    "    netmhc_dict['II'][peptide] = peptide_df['percentile_rank'].min()"
   ],
   "metadata": {
    "collapsed": false
   },
   "id": "ef28277664d7bf5a"
  },
  {
   "cell_type": "code",
   "execution_count": 93,
   "outputs": [],
   "source": [
    "def evaluate_test_NetMHC_predictions(model_name, description='Test', results_dir='test_results', custom_eval_options=None, per_fold=False):\n",
    "    prediction_df_list = load_test_data(model_name, results_dir)\n",
    "    if custom_eval_options is not None:\n",
    "        results_list = [{**get_custom_evaluation_dict(get_NetMHC_predictions(prediction_df, netmhc_dict), description, custom_eval_options), 'outer_fold': fold_id} for fold_id, prediction_df in prediction_df_list]\n",
    "    else:\n",
    "        results_list = [{**get_evaluation_dict(get_NetMHC_predictions(prediction_df, netmhc_dict), description), 'outer_fold': fold_id} for fold_id, prediction_df in prediction_df_list]\n",
    "    \n",
    "    if per_fold:\n",
    "        return results_list\n",
    "    \n",
    "    combined_results = combine_fold_results(results_list)\n",
    "    test_results = [combined_results]\n",
    "    return test_results"
   ],
   "metadata": {
    "collapsed": false
   },
   "id": "c1496a9e9d21defe"
  },
  {
   "cell_type": "code",
   "execution_count": 94,
   "outputs": [],
   "source": [
    "def get_NetMHC_predictions(prediction_df, netmhc_dict):\n",
    "    # prediction_df['Prediction'] = - prediction_df['MHC Allele Prediction - Min Percentile Rank']\n",
    "    prediction_df['Prediction'] = - prediction_df.apply(lambda x: netmhc_dict[x[\"MHC Class\"]][x['Epitope Description']], axis=1)\n",
    "    return prediction_df"
   ],
   "metadata": {
    "collapsed": false
   },
   "id": "25aff7367144410d"
  },
  {
   "cell_type": "code",
   "execution_count": 27,
   "outputs": [],
   "source": [
    "def get_prime_predictions():\n",
    "    prime_predictions_1 = pd.read_csv(f'prime/prime_sequences_all_1.txt', index_col=False, low_memory=False, sep='\\t')\n",
    "    prime_predictions_2 = pd.read_csv(f'prime/prime_sequences_all_2.txt', index_col=False, low_memory=False, sep='\\t')\n",
    "    prime_predictions_3 = pd.read_csv(f'prime/prime_sequences_all_3.txt', index_col=False, low_memory=False, sep='\\t')\n",
    "\n",
    "    combined_alleles_pred = pd.concat([prime_predictions_1['Score_bestAllele'], prime_predictions_2['Score_bestAllele'], prime_predictions_3['Score_bestAllele']], axis=1).max(axis=1)\n",
    "\n",
    "    prime_predictions_1['external_score'] = combined_alleles_pred\n",
    "    prime_predictions_1['external_peptide'] = prime_predictions_1['Peptide']\n",
    "    return prime_predictions_1"
   ],
   "metadata": {
    "collapsed": false
   },
   "id": "db503f67c77a4d85"
  },
  {
   "cell_type": "code",
   "execution_count": 28,
   "outputs": [],
   "source": [
    "def get_cd4episcore_predictions():\n",
    "    cd4_predictions = pd.read_csv(f'cd4epi/CD4episcore.csv', index_col=False, low_memory=False, sep=',')\n",
    "\n",
    "    cd4_predictions['external_score'] = - cd4_predictions['Combined_Score']\n",
    "    cd4_predictions['external_peptide'] = cd4_predictions['peptide']\n",
    "    return cd4_predictions"
   ],
   "metadata": {
    "collapsed": false
   },
   "id": "c3a0adf1725142ce"
  },
  {
   "cell_type": "code",
   "execution_count": 29,
   "outputs": [],
   "source": [
    "def get_external_prediction_lists(external_predictions, df_list):\n",
    "    prediction_df_list = []\n",
    "    for fold_id, prediction_df in df_list:\n",
    "        merged_pred_df = prediction_df.merge(external_predictions, left_on='Epitope Description', right_on='external_peptide')\n",
    "        merged_pred_df['Prediction'] = merged_pred_df['external_score']\n",
    "        prediction_df_list.append((fold_id, merged_pred_df))\n",
    "    return prediction_df_list"
   ],
   "metadata": {
    "collapsed": false
   },
   "id": "d64b809d1f2b660c"
  },
  {
   "cell_type": "code",
   "execution_count": 30,
   "outputs": [],
   "source": [
    "def get_external_prediction_performance(prediction_df_list, description, per_fold=False):\n",
    "    results_list_ext = [{**get_evaluation_dict(prediction_df, description), 'outer_fold': fold_id} for fold_id, prediction_df in prediction_df_list]\n",
    "    \n",
    "    if per_fold:\n",
    "        return results_list_ext\n",
    "    \n",
    "    combined_results_ext = combine_fold_results(results_list_ext)\n",
    "    return combined_results_ext"
   ],
   "metadata": {
    "collapsed": false
   },
   "id": "e0f6774c41eb05dc"
  },
  {
   "cell_type": "code",
   "execution_count": 154,
   "id": "5a0d59c8-6a32-43b1-87c2-f489126f3cb4",
   "metadata": {},
   "outputs": [],
   "source": [
    "NetMHC_test = evaluate_test_NetMHC_predictions('ExternalTest')"
   ]
  },
  {
   "cell_type": "code",
   "execution_count": null,
   "outputs": [],
   "source": [
    "external_df_list_test = load_test_data('ExternalTest', 'test_results')"
   ],
   "metadata": {
    "collapsed": false
   },
   "id": "74e36ada190e7673"
  },
  {
   "cell_type": "code",
   "execution_count": 104,
   "outputs": [],
   "source": [
    "# CD4Episcore 17% skipped peptides because they were too short (less than 15)\n",
    "cd4episcore_predictions = get_cd4episcore_predictions()\n",
    "cd4episcore_prediction_test_df_list = get_external_prediction_lists(cd4episcore_predictions, external_df_list_test)\n",
    "cd4episcore_test = get_external_prediction_performance(cd4episcore_prediction_test_df_list, 'Test')"
   ],
   "metadata": {
    "collapsed": false
   },
   "id": "7b7a1c9b50cfd39"
  },
  {
   "cell_type": "code",
   "execution_count": 102,
   "outputs": [],
   "source": [
    "# Prime: 7 % skipped peptides because they were too long (more than 14)\n",
    "external_df_list_test = load_test_data('ExternalTest', 'test_results')\n",
    "prime_predictions = get_prime_predictions()\n",
    "prime_prediction_test_df_list = get_external_prediction_lists(prime_predictions, external_df_list_test)\n",
    "PRIME_test = get_external_prediction_performance(prime_prediction_test_df_list, 'Test')"
   ],
   "metadata": {
    "collapsed": false
   },
   "id": "804ebd9c2b18c477"
  },
  {
   "cell_type": "code",
   "execution_count": 108,
   "outputs": [],
   "source": [
    "# Bag-Of-AA\n",
    "BagOfAAHumanNCV_I = read_test_results('BagOfAAHumanNCV_I')\n",
    "BagOfAAHumanNCV_I_test_results = combine_test_results(BagOfAAHumanNCV_I)\n",
    "BagOfAAHumanNCV_II = read_test_results('BagOfAAHumanNCV_II')\n",
    "BagOfAAHumanNCV_II_test_results = combine_test_results(BagOfAAHumanNCV_II)"
   ],
   "metadata": {
    "collapsed": false
   },
   "id": "9784b3e8d01590b4"
  },
  {
   "cell_type": "code",
   "execution_count": null,
   "outputs": [],
   "source": [
    "# FINE-T\n",
    "TransformerPretrainedHumanPaper_I_II_pre_I_data = read_test_results('TransformerPretrainedHumanPaper_I_II_pre_I_data')\n",
    "TransformerPretrainedHumanPaper_I_II_pre_I_data_test_results = combine_test_results(TransformerPretrainedHumanPaper_I_II_pre_I_data)\n",
    "TransformerPretrainedHumanPaper_I_II_pre_II_data = read_test_results('TransformerPretrainedHumanPaper_I_II_pre_II_data')\n",
    "TransformerPretrainedHumanPaper_I_II_pre_II_data_test_results = combine_test_results(TransformerPretrainedHumanPaper_I_II_pre_II_data)"
   ],
   "metadata": {
    "collapsed": false
   },
   "id": "3161fa7eacdb558f"
  },
  {
   "cell_type": "code",
   "execution_count": 115,
   "id": "c81901a2-e96f-4147-85d5-8549839ea790",
   "metadata": {},
   "outputs": [],
   "source": [
    "def hplot_test_results(results, metric, title, size, aggregation='mean', x_pos=None, y_lim=None, err_bars=True, err_text=False, label_rotation=0, text_shift=0.005, vline=None, display_sizes=True, display_text=True, color=None, strength=0.8, hide_xticklabels=False):\n",
    "    results_r = list(reversed(results))\n",
    "    # results = [(x_label, eval_type, results_dict), ...]\n",
    "    x_pos = list(range(len(results_r))) if x_pos is None else x_pos\n",
    "    if display_sizes:\n",
    "        x_labels = [f\"{x_label} - {result[metric][eval_type]['skipped_count']/(result[metric][eval_type]['skipped_count']+result[metric][eval_type]['count']):.0%} skipped\" for x_label, eval_type, result in results_r]\n",
    "    else:\n",
    "        x_labels = [f\"{x_label}\" for x_label, eval_type, result in results_r]\n",
    "        skipped_count_sum = sum([result[metric][eval_type]['skipped_count'] for _, eval_type, result in results_r if 'skipped_count' in result[metric][eval_type]])\n",
    "        if skipped_count_sum > 0:\n",
    "            # print(f'{skipped_count_sum} peptides have been skipped.')\n",
    "            pass\n",
    "    mean_scores = [results_dict[metric][eval_type][aggregation] for _, eval_type, results_dict in results_r]\n",
    "    mean_scores_fold = [results_dict[metric][eval_type]['fold_0'] for _, eval_type, results_dict in results_r]\n",
    "    errs = [results_dict[metric][eval_type]['sem'] for _, eval_type, results_dict in results_r] if err_bars else None\n",
    "    fig, ax = plt.subplots(figsize=size)\n",
    "    ax.barh(x_pos, mean_scores, height=strength, xerr=errs, align='center', alpha=1, ecolor='0.2', capsize=11, color='0.8', label='All CV test sets')\n",
    "    ax.barh(x_pos, mean_scores_fold, height=strength*0.5, xerr=None, align='center', alpha=1, ecolor='black', capsize=8, color='tab:blue', label='Holdout test set')\n",
    "    ax.set_xlabel(metric)\n",
    "    ax.set_yticks(x_pos)\n",
    "    ax.set_yticklabels(x_labels, rotation=label_rotation)\n",
    "    if hide_xticklabels:\n",
    "        ax.set_xticks([0.4, 0.45, 0.5, 0.55, 0.6, 0.65, 0.7])\n",
    "        ax.set_xticklabels([])\n",
    "    else:\n",
    "        ax.set_xticks([0.4, 0.45, 0.5, 0.55, 0.6, 0.65, 0.7])\n",
    "        ax.set_xticklabels(['0.4', '0.45', '0.5', '0.55', '0.6', '0.65', '0.7'])\n",
    "    ax.set_title(title)\n",
    "    if metric == 'ROC AUC' and y_lim is None:\n",
    "        ax.set_xlim(0.4, 0.9)\n",
    "    elif y_lim is None:\n",
    "        ax.set_xlim(0, 0.9)\n",
    "    else:\n",
    "        ax.set_xlim(y_lim)\n",
    "    ax.xaxis.grid(True)\n",
    "    \n",
    "    if vline is not None:\n",
    "        plt.axvline(x=vline, color='black', linewidth=1)\n",
    "    plt.tight_layout()\n",
    "    # plt.show()"
   ]
  },
  {
   "cell_type": "code",
   "execution_count": 168,
   "outputs": [
    {
     "data": {
      "image/png": "[encoded data removed]",
      "text/plain": [
       "<Figure size 576x244.8 with 1 Axes>"
      ]
     },
     "metadata": {
      "needs_background": "light"
     },
     "output_type": "display_data"
    }
   ],
   "source": [
    "vis_results_test = [\n",
    "    ('  NetMHCpan 4.1', 'MHC I - MHC corrected - Human - no defaults/Test', NetMHC_test[0]),\n",
    "    ('PRIME 2.0', 'MHC I - MHC corrected - Human subset - no defaults/Test', PRIME_test),\n",
    "    ('BAG-OF-AA', 'MHC I - MHC corrected - Human - no defaults/Test', BagOfAAHumanNCV_I_test_results),\n",
    "    ('FINE-T', 'MHC I - MHC corrected - Human - no defaults/Test', TransformerPretrainedHumanPaper_I_II_pre_I_data_test_results),\n",
    "]\n",
    "\n",
    "hplot_test_results(vis_results_test, 'ROC AUC', 'MHC class I', (8, 3.4), f'mean', x_pos=None, y_lim=(0.43, 0.72), err_bars=True, err_text=True, display_text=False, display_sizes=False, color='tab:blue', hide_xticklabels=False)\n",
    "\n",
    "handles, labels = plt.gca().get_legend_handles_labels()\n",
    "order = [1,0]\n",
    "plt.legend([handles[idx] for idx in order],[labels[idx] for idx in order], fontsize=15)\n",
    "# plt.tight_layout()\n",
    "plt.xlabel('AUC')\n",
    "plt.savefig('../paper/figures/human_roc_holdout_I.pdf', bbox_inches='tight')"
   ],
   "metadata": {
    "collapsed": false
   },
   "id": "9335fc908bec3d47"
  },
  {
   "cell_type": "code",
   "execution_count": 169,
   "outputs": [
    {
     "data": {
      "image/png": "[encoded data removed]",
      "text/plain": [
       "<Figure size 576x230.4 with 1 Axes>"
      ]
     },
     "metadata": {
      "needs_background": "light"
     },
     "output_type": "display_data"
    }
   ],
   "source": [
    "vis_results_test = [\n",
    "    ('NetMHCIIpan 4.0', 'MHC II - MHC corrected - Human - no defaults/Test', NetMHC_test[0]),\n",
    "    ('CD4Episcore', 'MHC II - MHC corrected - Human subset - no defaults/Test', cd4episcore_test),\n",
    "    ('BAG-OF-AA', 'MHC II - MHC corrected - Human - no defaults/Test', BagOfAAHumanNCV_II_test_results),\n",
    "    ('FINE-T', 'MHC II - MHC corrected - Human - no defaults/Test', TransformerPretrainedHumanPaper_I_II_pre_II_data_test_results),\n",
    "]\n",
    "\n",
    "hplot_test_results(vis_results_test, 'ROC AUC', 'MHC class II', (8, 3.2), 'mean', x_pos=None, y_lim=(0.43, 0.72), err_bars=True, err_text=True, display_text=False, display_sizes=False, hide_xticklabels=False)\n",
    "plt.xlabel('')\n",
    "# plt.tight_layout()\n",
    "plt.xlabel('AUC')\n",
    "plt.savefig('../paper/figures/human_roc_holdout_II.pdf', bbox_inches='tight')"
   ],
   "metadata": {
    "collapsed": false
   },
   "id": "2adc82e49abed30e"
  },
  {
   "cell_type": "markdown",
   "source": [
    "# Supplement S4 Negative Transfer - Validation"
   ],
   "metadata": {
    "collapsed": false
   },
   "id": "d7c25e20db830943"
  },
  {
   "cell_type": "code",
   "execution_count": null,
   "outputs": [],
   "source": [
    "def combine_individual_model_results_es(model_results, mhc_string=''):\n",
    "    # this version does not require eval strings with sources/alleles specified\n",
    "    # like \"ROC AUC{mhc_string} - {allele}\"\n",
    "    fold_results = []\n",
    "    for fold in range(4):\n",
    "        roc_auc_per_allele = []\n",
    "        counts_per_allele = []\n",
    "        for allele in model_results.keys():\n",
    "            if allele in ['All', 'MHC Class I', 'MHC Class I+II', 'MHC Class II']:\n",
    "                continue\n",
    "            count_per_allele_per_fold = model_results[allele]['seed_avg_df']['Count - ROC AUC - MHC I+II - MHC+source corrected - no defaults/Validation'].iloc[fold]\n",
    "            counts_per_allele.append(count_per_allele_per_fold)\n",
    "            roc_auc_per_allele_per_fold = model_results[allele]['seed_avg_df'][f'ROC AUC - MHC I+II - MHC+source corrected - no defaults/Validation'].iloc[fold]\n",
    "            roc_auc_per_allele.append(roc_auc_per_allele_per_fold)\n",
    "        roc_auc_combined = sum([roc_auc_per_allele[i]*counts_per_allele[i] for i in range(len(roc_auc_per_allele))]) / sum(counts_per_allele)\n",
    "        fold_results.append(roc_auc_combined)\n",
    "    \n",
    "    overall_count = sum(counts_per_allele)\n",
    "    mean_roc_auc = np.mean(fold_results)\n",
    "    sem_roc_auc = scipy.stats.sem(fold_results)\n",
    "    \n",
    "    result_dict = {'ROC AUC': {'Combined results': {'mean': mean_roc_auc, 'sem': sem_roc_auc, 'count': overall_count, 'skipped_count': 0}}}\n",
    "    return result_dict"
   ],
   "metadata": {
    "collapsed": false
   },
   "id": "f0b04b0819cc9eb3"
  },
  {
   "cell_type": "code",
   "execution_count": 41,
   "outputs": [],
   "source": [
    "TransformerMHCAllelesPaperMaEs10 = read_valid_results('TransformerMHCAllelesPaperMaEs10')\n",
    "TransformerMHCAllelesPaperMaEs10_results = get_inner_cv_results(TransformerMHCAllelesPaperMaEs10,\n",
    "                                                       average_over=['random_seed', 'batch_size'],\n",
    "                                                       group_by='select_alleles')"
   ],
   "metadata": {
    "collapsed": false
   },
   "id": "27823ac7885d9d3b"
  },
  {
   "cell_type": "code",
   "execution_count": 133,
   "outputs": [],
   "source": [
    "combined_allele_paper_results_ma_10_es = combine_individual_model_results_es(TransformerMHCAllelesPaperMaEs10_results)"
   ],
   "metadata": {
    "collapsed": false
   },
   "id": "bea57aadda3f1f9c"
  },
  {
   "cell_type": "code",
   "execution_count": 42,
   "outputs": [],
   "source": [
    "TransformerPeptideSourcesPaperMaEs10 = read_valid_results('TransformerPeptideSourcesPaperMaEs10')\n",
    "TransformerPeptideSourcesPaperMaEs10_results = get_inner_cv_results(TransformerPeptideSourcesPaperMaEs10,\n",
    "                                                           average_over=['random_seed', 'batch_size'],\n",
    "                                                           group_by='select_pep_sources')"
   ],
   "metadata": {
    "collapsed": false
   },
   "id": "23977e9e2d2dd9a3"
  },
  {
   "cell_type": "code",
   "execution_count": 134,
   "outputs": [],
   "source": [
    "combined_source_paper_ma_10_results = combine_individual_model_results_es(TransformerPeptideSourcesPaperMaEs10_results, ' - MHC I+II')"
   ],
   "metadata": {
    "collapsed": false
   },
   "id": "736b6fd0eb10689d"
  },
  {
   "cell_type": "code",
   "execution_count": 392,
   "outputs": [
    {
     "data": {
      "image/png": "[encoded data removed]",
      "text/plain": [
       "<Figure size 612x216 with 1 Axes>"
      ]
     },
     "metadata": {
      "needs_background": "light"
     },
     "output_type": "display_data"
    }
   ],
   "source": [
    "vis_results = [\n",
    "    ('multi-domain Transformer', 'MHC I+II - MHC+source corrected - no defaults/Validation', TransformerPeptideSourcesPaperMaEs10_results['All']),\n",
    "    ('per-allele Transformer', 'Combined results', combined_allele_paper_results_ma_10_es),\n",
    "    ('per-source Transformer', 'Combined results', combined_source_paper_ma_10_results),\n",
    "]\n",
    "hplot_results(vis_results, 'ROC AUC', 'All Peptide Sources - MHC I+II', (8.5, 3), 'mean', y_lim=(0.5, 0.7), display_sizes=False, err_text=False, display_text=False)\n",
    "plt.xlabel('AUC')\n",
    "plt.savefig('../paper/figures/negative_transfer.pdf', bbox_inches='tight')"
   ],
   "metadata": {
    "collapsed": false
   },
   "id": "f5ef6cf644adda6e"
  },
  {
   "cell_type": "markdown",
   "source": [
    "# Supplement S5 Ablation study for FINE-T"
   ],
   "metadata": {
    "collapsed": false
   },
   "id": "78219f3a17a26c8d"
  },
  {
   "cell_type": "code",
   "execution_count": 171,
   "outputs": [],
   "source": [
    "TransformerMultiSourcePaperValidRe = read_valid_results('TransformerMultiSourcePaperValidRe')\n",
    "TransformerMultiSourcePaperValidRe_results = get_inner_cv_results(TransformerMultiSourcePaperValidRe,\n",
    "                                                       average_over=['random_seed'])"
   ],
   "metadata": {
    "collapsed": false
   },
   "id": "4e114eccebca98f6"
  },
  {
   "cell_type": "code",
   "execution_count": 173,
   "outputs": [],
   "source": [
    "TransformerOneSourcePaperValidReI = read_valid_results('TransformerOneSourcePaperValidReI')\n",
    "TransformerOneSourcePaperValidReI_results = get_inner_cv_results(TransformerOneSourcePaperValidReI,\n",
    "                                                       average_over=['random_seed', 'batch_size'],\n",
    "                                                       group_by='select_pep_sources')"
   ],
   "metadata": {
    "collapsed": false
   },
   "id": "c255f60a30b38cc4"
  },
  {
   "cell_type": "code",
   "execution_count": 175,
   "outputs": [],
   "source": [
    "TransformerOneSourcePaperValidReII = read_valid_results('TransformerOneSourcePaperValidReII')\n",
    "TransformerOneSourcePaperValidReII_results = get_inner_cv_results(TransformerOneSourcePaperValidReII,\n",
    "                                                       average_over=['random_seed', 'batch_size'],\n",
    "                                                       group_by='select_pep_sources')"
   ],
   "metadata": {
    "collapsed": false
   },
   "id": "3257ac23a9d91256"
  },
  {
   "cell_type": "code",
   "execution_count": 177,
   "outputs": [],
   "source": [
    "TransformerPretrainedOneSourcePaperValidReI = read_valid_results('TransformerPretrainedOneSourcePaperValidReI')\n",
    "TransformerPretrainedOneSourcePaperValidReI_results = get_inner_cv_results(TransformerPretrainedOneSourcePaperValidReI,\n",
    "                                                       average_over=['random_seed', 'batch_size'],\n",
    "                                                       group_by='pep_source_train_selection')"
   ],
   "metadata": {
    "collapsed": false
   },
   "id": "3d7e30aad9d2d707"
  },
  {
   "cell_type": "code",
   "execution_count": 179,
   "outputs": [],
   "source": [
    "TransformerPretrainedOneSourcePaperValidReII = read_valid_results('TransformerPretrainedOneSourcePaperValidReII')\n",
    "TransformerPretrainedOneSourcePaperValidReII_results = get_inner_cv_results(TransformerPretrainedOneSourcePaperValidReII,\n",
    "                                                       average_over=['random_seed', 'batch_size'],\n",
    "                                                       group_by='pep_source_train_selection')"
   ],
   "metadata": {
    "collapsed": false
   },
   "id": "d639add6b540282f"
  },
  {
   "cell_type": "code",
   "execution_count": 510,
   "outputs": [
    {
     "data": {
      "image/png": "[encoded data removed]",
      "text/plain": [
       "<Figure size 612x432 with 1 Axes>"
      ]
     },
     "metadata": {
      "needs_background": "light"
     },
     "output_type": "display_data"
    }
   ],
   "source": [
    "result_labels = ['Homo sapiens', 'unknown', 'Human betaherpesvirus 5', 'Hepacivirus C', 'Severe acute respiratory syndrome coronavirus 2']\n",
    "result_labels_short = ['Homo sapiens', 'Unspecified', '  Human betaherpesvirus 5', 'Hepacivirus C', 'SARS coronavirus 2']\n",
    "\n",
    "metric_string = 'MHC I - MHC corrected - no defaults/Validation'\n",
    "vis_results_multi_source = ([('', f'MHC I - {source}/Validation', TransformerMultiSourcePaperValidRe_results) for source in result_labels], 'Multi-source')\n",
    "vis_results = ([('', metric_string, TransformerOneSourcePaperValidReI_results[source]) for source in result_labels], 'Without pretraining')\n",
    "vis_results_pretraining = ([('', metric_string, TransformerPretrainedOneSourcePaperValidReI_results[source]) for source in result_labels], 'With pretraining')\n",
    "\n",
    "hplot_results_triples(vis_results_multi_source, vis_results, vis_results_pretraining, result_labels_short, 'ROC AUC', 'MHC class I', (8.5, 6), 'mean', x_pos=None, y_lim=(0.45, 0.78), err_text=True, display_text=False, legend=False)\n",
    "plt.xlabel('AUC')\n",
    "plt.savefig('../paper/figures/valid_multi_source_I.pdf', bbox_inches='tight')"
   ],
   "metadata": {
    "collapsed": false
   },
   "id": "c5be649249afb343"
  },
  {
   "cell_type": "code",
   "execution_count": 511,
   "outputs": [
    {
     "data": {
      "image/png": "[encoded data removed]",
      "text/plain": [
       "<Figure size 612x432 with 1 Axes>"
      ]
     },
     "metadata": {
      "needs_background": "light"
     },
     "output_type": "display_data"
    }
   ],
   "source": [
    "result_labels = ['Homo sapiens', 'Human betaherpesvirus 6B', 'Dengue virus', 'Phleum pratense', 'Severe acute respiratory syndrome coronavirus 2']\n",
    "result_labels_short = ['Homo sapiens', 'Human betaherpesvirus 6B', 'Dengue virus', 'Phleum pratense', 'SARS coronavirus 2']\n",
    "\n",
    "metric_string = 'MHC II - MHC corrected - no defaults/Validation'\n",
    "vis_results_multi_source = ([('', f'MHC II - {source}/Validation', TransformerMultiSourcePaperValidRe_results) for source in result_labels], 'Multi-source')\n",
    "vis_results = ([('', metric_string, TransformerOneSourcePaperValidReII_results[source]) for source in result_labels], 'Without pretraining')\n",
    "vis_results_pretraining = ([('', metric_string, TransformerPretrainedOneSourcePaperValidReII_results[source]) for source in result_labels], 'With pretraining')\n",
    "\n",
    "\n",
    "hplot_results_triples(vis_results_multi_source, vis_results, vis_results_pretraining, result_labels_short, 'ROC AUC', 'MHC class II', (8.5, 6), 'mean', x_pos=None, y_lim=(0.45, 0.78), err_text=True, display_text=False, legend=False)\n",
    "plt.xlabel('AUC')\n",
    "plt.savefig('../paper/figures/valid_multi_source_II.pdf', bbox_inches='tight')"
   ],
   "metadata": {
    "collapsed": false
   },
   "id": "ed9c4504fe86d1a3"
  },
  {
   "cell_type": "markdown",
   "source": [
    "# Supplement S6 Permutation experiment with FINE-T"
   ],
   "metadata": {
    "collapsed": false
   },
   "id": "290ff012660af43c"
  },
  {
   "cell_type": "code",
   "execution_count": 562,
   "outputs": [],
   "source": [
    "def plot_permutation_performance_2(permutation_results_df, no_permutation_results_df, mhc_class):\n",
    "    ax = permutation_results_df.groupby(['random_seed']).mean()[f'ROC AUC - MHC {mhc_class} - MHC corrected - Human - no defaults/Test'].hist(bins=30)\n",
    "    ax.set_xlabel('AUC')\n",
    "    NoPermutationAUC = no_permutation_results_df\n",
    "    marker = ax.plot([NoPermutationAUC,], [0,], '^', markersize=12, color='red', label='No permutations')[0]\n",
    "    marker.set_clip_on(False)\n",
    "    ax.legend(fontsize=14)\n",
    "    ax.set_xlim(0.39, 0.7)\n",
    "    ax.set_title(f'MHC {mhc_class}', fontsize=18)\n",
    "    plt.savefig(f'../paper/figures/permutation_test_{mhc_class}.pdf', bbox_inches='tight')"
   ],
   "metadata": {
    "collapsed": false
   },
   "id": "6b8281ce2fa14cea"
  },
  {
   "cell_type": "code",
   "execution_count": 281,
   "outputs": [],
   "source": [
    "TransformerPretrainedOneSourcePaperPermIHuman = read_test_results('TransformerPretrainedOneSourcePaperPermIHuman')\n",
    "TransformerPretrainedOneSourcePaperPermIIHuman = read_test_results('TransformerPretrainedOneSourcePaperPermIIHuman')"
   ],
   "metadata": {
    "collapsed": false
   },
   "id": "3abbffe135a8e8d6"
  },
  {
   "cell_type": "code",
   "execution_count": 546,
   "outputs": [],
   "source": [
    "TransformerPretrainedHumanPaper_I_II_pre_I_data = read_test_results('TransformerPretrainedHumanPaper_I_II_pre_I_data')\n",
    "TransformerPretrainedHumanPaper_I_II_pre_I_data_test_results = combine_test_results(TransformerPretrainedHumanPaper_I_II_pre_I_data)\n",
    "NoPermutationAUC_I = TransformerPretrainedHumanPaper_I_II_pre_I_data_test_results['ROC AUC']['MHC I - MHC corrected - Human - no defaults/Test']['mean']"
   ],
   "metadata": {
    "collapsed": false
   },
   "id": "40a8648cae722ea7"
  },
  {
   "cell_type": "code",
   "execution_count": 545,
   "outputs": [],
   "source": [
    "TransformerPretrainedHumanPaper_I_II_pre_II_data = read_test_results('TransformerPretrainedHumanPaper_I_II_pre_II_data')\n",
    "TransformerPretrainedHumanPaper_I_II_pre_II_data_test_results = combine_test_results(TransformerPretrainedHumanPaper_I_II_pre_II_data)\n",
    "NoPermutationAUC_II = TransformerPretrainedHumanPaper_I_II_pre_II_data_test_results['ROC AUC']['MHC II - MHC corrected - Human - no defaults/Test']['mean']"
   ],
   "metadata": {
    "collapsed": false
   },
   "id": "fea98d2f126d8f1a"
  },
  {
   "cell_type": "code",
   "execution_count": 547,
   "outputs": [
    {
     "data": {
      "text/plain": [
       "(0.6149573524821862, 0.6846788846865592)"
      ]
     },
     "execution_count": 547,
     "metadata": {},
     "output_type": "execute_result"
    }
   ],
   "source": [
    "NoPermutationAUC_I, NoPermutationAUC_II"
   ],
   "metadata": {
    "collapsed": false
   },
   "id": "ddf7cf1ff82ac937"
  },
  {
   "cell_type": "code",
   "execution_count": 563,
   "outputs": [
    {
     "data": {
      "image/png": "[encoded data removed]",
      "text/plain": [
       "<Figure size 432x288 with 1 Axes>"
      ]
     },
     "metadata": {
      "needs_background": "light"
     },
     "output_type": "display_data"
    }
   ],
   "source": [
    "plot_permutation_performance_2(TransformerPretrainedOneSourcePaperPermIHuman, NoPermutationAUC_I, 'I')"
   ],
   "metadata": {
    "collapsed": false
   },
   "id": "dfae814b75b8184c"
  },
  {
   "cell_type": "code",
   "execution_count": 564,
   "outputs": [
    {
     "data": {
      "image/png": "[encoded data removed]",
      "text/plain": [
       "<Figure size 432x288 with 1 Axes>"
      ]
     },
     "metadata": {
      "needs_background": "light"
     },
     "output_type": "display_data"
    }
   ],
   "source": [
    "plot_permutation_performance_2(TransformerPretrainedOneSourcePaperPermIIHuman, NoPermutationAUC_II, 'II')"
   ],
   "metadata": {
    "collapsed": false
   },
   "id": "2cdaa6fcef105b96"
  },
  {
   "cell_type": "code",
   "execution_count": null,
   "id": "e2642076-1dd7-4a68-9125-48fddcf6b029",
   "metadata": {},
   "outputs": [],
   "source": []
  }
 ],
 "metadata": {
  "kernelspec": {
   "display_name": "Python 3",
   "language": "python",
   "name": "python3"
  },
  "language_info": {
   "codemirror_mode": {
    "name": "ipython",
    "version": 3
   },
   "file_extension": ".py",
   "mimetype": "text/x-python",
   "name": "python",
   "nbconvert_exporter": "python",
   "pygments_lexer": "ipython3",
   "version": "3.9.5"
  }
 },
 "nbformat": 4,
 "nbformat_minor": 5
}
