{
 "cells": [
  {
   "cell_type": "markdown",
   "metadata": {},
   "source": [
    "# IEDB T-Cell Response Data Processing\n",
    "\n",
    "The benchark dataset is created using the following file from the [IEDB database export site](http://www.iedb.org/database_export_v3.php):\n",
    "`tcell_full_v3` (last update on 25 January 2022).\n",
    "\n",
    "### Data selection criteria\n",
    "- T cells from human hosts\n",
    "- Linear peptides without modified amino acids\n",
    "- IFNg as assay group\n",
    "- Positive and negative responses (remove instances with positive-low, positive-intermediate, and positive-high responses)\n",
    "- Remove peptides which have both positive and negative T-cell response labels.\n",
    "\n",
    "### MHC alleles\n",
    "The 100 most frequent MHC alleles in the IEDB T-cell dataset are obtained.\n",
    "For every peptide:MHC combination, MHC presentation is predicted using NetMHC*.\n",
    "Peptide:MHC combinations that are identified as weak binders are added to the T-cell response dataset. Peptides without any predicted weak binder are assigned a \"default allele\".\n",
    "\n",
    "### Train/valid/test split\n",
    "Test data leakage is minimized by performing a clustering on peptides. Peptides are assigned to the same cluster if they share a 9-mer sequence. Peptides from the same cluster are assigned to the same partition of the random split of the data. This approach is similar to the one by [Nielsen et al. (2007)](#2).\n",
    "\n",
    "### References\n",
    "\n",
    "<a id=\"2\">[1]</a> \n",
    "Nielsen, M., Lundegaard, C. & Lund, O. Prediction of MHC class II binding affinity using SMM-align, a novel stabilization matrix alignment method. BMC Bioinformatics 8, 238 (2007). https://doi.org/10.1186/1471-2105-8-238\n",
    "\n",
    "\n",
    "<br />"
   ]
  },
  {
   "cell_type": "code",
   "execution_count": 1,
   "metadata": {},
   "outputs": [],
   "source": [
    "import pandas as pd"
   ]
  },
  {
   "cell_type": "code",
   "execution_count": 21,
   "metadata": {},
   "outputs": [],
   "source": [
    "import pandas as pd\n",
    "import networkx as nx\n",
    "import matplotlib.pyplot as plt\n",
    "import random\n",
    "import math\n",
    "from mhcnames import normalize_allele_name\n",
    "import numpy as np\n",
    "import itertools\n",
    "from pathlib import Path\n",
    "import mhcgnomes\n",
    "from mhcgnomes import Allele, Class2Pair\n",
    "from mhctools import NetMHCpan4_1_EL, NetMHCIIpan4_EL\n",
    "from sklearn.cluster import spectral_clustering"
   ]
  },
  {
   "cell_type": "markdown",
   "metadata": {},
   "source": [
    "## Helpers for data processing"
   ]
  },
  {
   "cell_type": "code",
   "execution_count": 17,
   "metadata": {},
   "outputs": [],
   "source": [
    "def normalize_MHC_name(allele):\n",
    "    \"\"\"\n",
    "    Apply both mhcgnomes and mhctools normalization:\n",
    "    - mhcgnomes provides easier access to the species and possible mutations\n",
    "    - mhctools is necessary for running the NetMHC predictors\n",
    "    Mutated alleles are set to None.\n",
    "    Non-human alleles are marked as such to later on remove their corresponding peptides.\n",
    "    \"\"\"\n",
    "    parsed_allele = mhcgnomes.parse(allele, raise_on_error=False, required_result_types=[Allele])\n",
    "    if parsed_allele is not None:\n",
    "        species = parsed_allele.gene.species.name\n",
    "        num_mutations = len(parsed_allele.mutations)\n",
    "    else:\n",
    "        parsed_allele = mhcgnomes.parse(allele, raise_on_error=False, required_result_types=[Class2Pair])\n",
    "        if parsed_allele is not None:\n",
    "            species = parsed_allele.alpha.gene.species.name\n",
    "            num_mutations = len(parsed_allele.alpha.mutations) + len(parsed_allele.beta.mutations)\n",
    "        else:\n",
    "            species = 'Homo sapiens'\n",
    "            num_mutations = 0\n",
    "    \n",
    "    if parsed_allele is None:\n",
    "        return None\n",
    "    elif num_mutations > 0:\n",
    "        return None\n",
    "    elif species != 'Homo sapiens':\n",
    "        return 'non-human allele'\n",
    "    else:\n",
    "        return normalize_allele_name(parsed_allele.to_string())"
   ]
  },
  {
   "cell_type": "code",
   "execution_count": 18,
   "metadata": {},
   "outputs": [],
   "source": [
    "def remove_inconsistencies(df):\n",
    "    \"\"\"\n",
    "    Remove peptide:MHC instances that occur with both positive and negative labels\n",
    "    \"\"\"\n",
    "    # set peptides with positive label\n",
    "    peptides_allele_pos = set(df.loc[(df['Assay Qualitative Measure'] == 'Positive'), 'Epitope Description'].unique())\n",
    "    \n",
    "    # set peptides with negative label\n",
    "    peptides_allele_neg = set(df.loc[(df['Assay Qualitative Measure'] == 'Negative'), 'Epitope Description'].unique())\n",
    "    \n",
    "    # set of peptides with both positive and negative label\n",
    "    peptides_allele_pos_neg = peptides_allele_pos & peptides_allele_neg\n",
    "    \n",
    "    # remove inconsistent instances\n",
    "    consistent_df = df.loc[~df['Epitope Description'].isin(peptides_allele_pos_neg)]\n",
    "    \n",
    "    return consistent_df"
   ]
  },
  {
   "cell_type": "code",
   "execution_count": 19,
   "metadata": {},
   "outputs": [],
   "source": [
    "def get_values_per_column(full_df, selected_column):\n",
    "    \"\"\"\n",
    "    Compute the pos/neg distribution of values for a selected column\n",
    "    \"\"\"\n",
    "    distribution_pos_full_df = full_df.loc[full_df['Assay Qualitative Measure'] == 'Positive', selected_column].fillna('None').value_counts().to_frame()\n",
    "    distribution_neg_full_df = full_df.loc[full_df['Assay Qualitative Measure'] == 'Negative', selected_column].fillna('None').value_counts().to_frame()\n",
    "    distribution_merged_df = pd.concat([distribution_pos_full_df, distribution_neg_full_df], axis=1).fillna(0).astype(int)\n",
    "    distribution_merged_df.columns = ['Positives', 'Negatives']\n",
    "    return distribution_merged_df"
   ]
  },
  {
   "cell_type": "markdown",
   "metadata": {},
   "source": [
    "<br />\n",
    "\n",
    "## Get T-cell response data"
   ]
  },
  {
   "cell_type": "code",
   "execution_count": 13,
   "metadata": {},
   "outputs": [],
   "source": [
    "# load T cell response data\n",
    "df_tcell_original = pd.read_csv(\"../../data/IEDB_versions/tcell_full_v3_25_01_22.csv\", dtype=\"str\", header=[0, 1])\n",
    "df_tcell_original.columns = [' '.join(col).strip() for col in df_tcell_original.columns.values]"
   ]
  },
  {
   "cell_type": "code",
   "execution_count": 22,
   "metadata": {},
   "outputs": [],
   "source": [
    "# only consider human hosts\n",
    "human_host = df_tcell_original['Host Name'].isin(['Homo sapiens (human)', 'Homo sapiens', 'Homo sapiens Caucasian', 'Homo sapiens Black'])\n",
    "df_tcell_human_host = df_tcell_original.loc[human_host].copy()\n",
    "\n",
    "# normalize HLA names to be in 4-digit format, otherwise None\n",
    "df_tcell_human_host['MHC Allele Name'] = df_tcell_human_host['MHC Allele Name'].astype(str).apply(lambda allele: normalize_MHC_name(allele))\n",
    "\n",
    "# remove instances having non-human MHC alleles\n",
    "df_tcell_human_host = df_tcell_human_host.loc[df_tcell_human_host['MHC Allele Name'] != 'non-human allele']\n",
    "\n",
    "# only use linear peptides\n",
    "df_tcell_linear_peptide = df_tcell_human_host.loc[df_tcell_human_host['Epitope Object Type'] == 'Linear peptide']\n",
    "\n",
    "# select peptides in certain length ranges\n",
    "# Class I:   NetMHCpan: 8 - 56   MHCflurry: 8 - 15\n",
    "# Class II:  NetMHCIIpan4: 9 - ?  BertMHC: 7 - 25\n",
    "peptide_len = df_tcell_linear_peptide['Epitope Description'].str.len()\n",
    "mhc_class = df_tcell_linear_peptide['MHC Class']\n",
    "peptide_len_selection = (peptide_len.between(8, 15) & (mhc_class == 'I')) | (peptide_len.between(9, 25) & (mhc_class == 'II'))\n",
    "df_tcell_peptide_len = df_tcell_linear_peptide.loc[peptide_len_selection]\n",
    "\n",
    "# only use IFNg as assay group\n",
    "df_tcell_IFNg = df_tcell_peptide_len.loc[df_tcell_peptide_len['Assay Assay Group'] == 'IFNg release']\n",
    "\n",
    "# only keep positive and negative responses, remove instances with positive-low, positive-intermediate, and positive-high responses\n",
    "df_tcell_pos_neg = df_tcell_IFNg.loc[df_tcell_IFNg['Assay Qualitative Measure'].isin(['Positive', 'Negative'])]\n",
    "\n",
    "# remove instances with peptides containing modified amino acids (e.g., deamination)\n",
    "is_modified = df_tcell_pos_neg['Epitope Description'].str.contains(' + ', regex=False)\n",
    "# remove instances with peptides containing lower case amino acids\n",
    "is_uppercase = df_tcell_pos_neg['Epitope Description'].str.isupper()\n",
    "# remove instances with X in the epitope sequence\n",
    "contains_X = df_tcell_pos_neg['Epitope Description'].str.contains('X', regex=False)\n",
    "# remove peptides having numbers in their sequence\n",
    "is_alphabetic = df_tcell_pos_neg['Epitope Description'].str.isalpha()\n",
    "df_tcell_mod_filtered = df_tcell_pos_neg.loc[~is_modified & is_uppercase & ~contains_X & is_alphabetic]\n",
    "\n",
    "# Insert default value for missing peptide sources\n",
    "df_tcell_mod_filtered = df_tcell_mod_filtered.fillna({'Epitope Parent Species': 'unknown'})\n",
    "\n",
    "# remove peptides that have inconsistent labels\n",
    "df_tcell_consistent = remove_inconsistencies(df_tcell_mod_filtered)\n",
    "\n",
    "# only keep one entry for each peptide\n",
    "df_tcell_unique_pep = df_tcell_consistent.drop_duplicates(subset=['Epitope Description'])"
   ]
  },
  {
   "cell_type": "markdown",
   "metadata": {},
   "source": [
    "<br />\n",
    "\n",
    "### Statistics on the dataset filtering"
   ]
  },
  {
   "cell_type": "code",
   "execution_count": 7,
   "metadata": {},
   "outputs": [
    {
     "data": {
      "text/html": [
       "<div>\n",
       "<style scoped>\n",
       "    .dataframe tbody tr th:only-of-type {\n",
       "        vertical-align: middle;\n",
       "    }\n",
       "\n",
       "    .dataframe tbody tr th {\n",
       "        vertical-align: top;\n",
       "    }\n",
       "\n",
       "    .dataframe thead th {\n",
       "        text-align: right;\n",
       "    }\n",
       "</style>\n",
       "<table border=\"1\" class=\"dataframe\">\n",
       "  <thead>\n",
       "    <tr style=\"text-align: right;\">\n",
       "      <th></th>\n",
       "      <th>1) human host</th>\n",
       "      <th>2) linear peptide</th>\n",
       "      <th>3) peptide length</th>\n",
       "      <th>4) only IFNg</th>\n",
       "      <th>5) only pos/neg</th>\n",
       "      <th>6) w/o AA modifications</th>\n",
       "      <th>7) consistency</th>\n",
       "      <th>8) unique peptides</th>\n",
       "    </tr>\n",
       "  </thead>\n",
       "  <tbody>\n",
       "    <tr>\n",
       "      <th>Negative</th>\n",
       "      <td>175790</td>\n",
       "      <td>175326</td>\n",
       "      <td>97491</td>\n",
       "      <td>48424</td>\n",
       "      <td>48424</td>\n",
       "      <td>48411</td>\n",
       "      <td>43108</td>\n",
       "      <td>20904</td>\n",
       "    </tr>\n",
       "    <tr>\n",
       "      <th>Positive</th>\n",
       "      <td>97909</td>\n",
       "      <td>95819</td>\n",
       "      <td>81139</td>\n",
       "      <td>37582</td>\n",
       "      <td>37582</td>\n",
       "      <td>37461</td>\n",
       "      <td>29968</td>\n",
       "      <td>14707</td>\n",
       "    </tr>\n",
       "    <tr>\n",
       "      <th>Positive-Low</th>\n",
       "      <td>6646</td>\n",
       "      <td>6366</td>\n",
       "      <td>4519</td>\n",
       "      <td>1730</td>\n",
       "      <td>0</td>\n",
       "      <td>0</td>\n",
       "      <td>0</td>\n",
       "      <td>0</td>\n",
       "    </tr>\n",
       "    <tr>\n",
       "      <th>Positive-High</th>\n",
       "      <td>1598</td>\n",
       "      <td>1517</td>\n",
       "      <td>1273</td>\n",
       "      <td>424</td>\n",
       "      <td>0</td>\n",
       "      <td>0</td>\n",
       "      <td>0</td>\n",
       "      <td>0</td>\n",
       "    </tr>\n",
       "    <tr>\n",
       "      <th>Positive-Intermediate</th>\n",
       "      <td>708</td>\n",
       "      <td>671</td>\n",
       "      <td>450</td>\n",
       "      <td>159</td>\n",
       "      <td>0</td>\n",
       "      <td>0</td>\n",
       "      <td>0</td>\n",
       "      <td>0</td>\n",
       "    </tr>\n",
       "  </tbody>\n",
       "</table>\n",
       "</div>"
      ],
      "text/plain": [
       "                       1) human host  2) linear peptide  3) peptide length  \\\n",
       "Negative                      175790             175326              97491   \n",
       "Positive                       97909              95819              81139   \n",
       "Positive-Low                    6646               6366               4519   \n",
       "Positive-High                   1598               1517               1273   \n",
       "Positive-Intermediate            708                671                450   \n",
       "\n",
       "                       4) only IFNg  5) only pos/neg  6) w/o AA modifications  \\\n",
       "Negative                      48424            48424                    48411   \n",
       "Positive                      37582            37582                    37461   \n",
       "Positive-Low                   1730                0                        0   \n",
       "Positive-High                   424                0                        0   \n",
       "Positive-Intermediate           159                0                        0   \n",
       "\n",
       "                       7) consistency  8) unique peptides  \n",
       "Negative                        43108               20904  \n",
       "Positive                        29968               14707  \n",
       "Positive-Low                        0                   0  \n",
       "Positive-High                       0                   0  \n",
       "Positive-Intermediate               0                   0  "
      ]
     },
     "execution_count": 7,
     "metadata": {},
     "output_type": "execute_result"
    }
   ],
   "source": [
    "processing_steps = [('human host', df_tcell_human_host),\n",
    "                    ('linear peptide', df_tcell_linear_peptide),\n",
    "                    ('peptide length', df_tcell_peptide_len),\n",
    "                    ('only IFNg', df_tcell_IFNg),\n",
    "                    ('only pos/neg', df_tcell_pos_neg),\n",
    "                    ('w/o AA modifications', df_tcell_mod_filtered),\n",
    "                    ('consistency', df_tcell_consistent),\n",
    "                    ('unique peptides', df_tcell_unique_pep)]\n",
    "\n",
    "# just an empty df with a response index\n",
    "pos_neg_split = pd.DataFrame(index=df_tcell_human_host['Assay Qualitative Measure'].value_counts().index)\n",
    "\n",
    "i = 1\n",
    "for description, df in processing_steps:\n",
    "    pos_neg_split[str(i) + ') ' + description] = df['Assay Qualitative Measure'].value_counts().to_frame()\n",
    "    i += 1\n",
    "\n",
    "pos_neg_split.fillna(0).astype(int)"
   ]
  },
  {
   "cell_type": "markdown",
   "metadata": {},
   "source": [
    "<br />\n",
    "\n",
    "## Perform NetMHC presentation predictions"
   ]
  },
  {
   "cell_type": "code",
   "execution_count": 26,
   "metadata": {},
   "outputs": [],
   "source": [
    "peptide_list_I = list(df_tcell_consistent.loc[df_tcell_consistent['MHC Class'] == 'I', 'Epitope Description'].unique())\n",
    "peptide_list_II = list(df_tcell_consistent.loc[df_tcell_consistent['MHC Class'] == 'II', 'Epitope Description'].unique())"
   ]
  },
  {
   "cell_type": "code",
   "execution_count": null,
   "metadata": {},
   "outputs": [],
   "source": [
    "# Get lists of the most frequent MHC alleles in the IEDB T-cell response data\n",
    "# Do it in two steps, first for the top 50 and then the following 50 most frequent alleles, just for computational reasons\n",
    "class_I_alleles = set(df_tcell_consistent.loc[df_tcell_consistent['MHC Class'] == 'I', 'MHC Allele Name'].unique())\n",
    "class_II_alleles = set(df_tcell_consistent.loc[df_tcell_consistent['MHC Class'] == 'II', 'MHC Allele Name'].unique())\n",
    "top_50_alleles = set(df_tcell_consistent['MHC Allele Name'].value_counts().iloc[:50].index)\n",
    "top_100_alleles = set(df_tcell_consistent['MHC Allele Name'].value_counts().iloc[:100].index)\n",
    "top_100_alleles_I = list(top_100_alleles & class_I_alleles)\n",
    "top_100_alleles_II = list(top_100_alleles & class_II_alleles)\n",
    "top_50_100_alleles = set(df_tcell_consistent['MHC Allele Name'].value_counts().iloc[50:100].index)\n",
    "top_50_alleles_I = list(top_50_alleles & class_I_alleles)\n",
    "top_50_alleles_II = list(top_50_alleles & class_II_alleles)\n",
    "top_50_100_alleles_I = list(top_50_100_alleles & class_I_alleles)\n",
    "top_50_100_alleles_II = list(top_50_100_alleles & class_II_alleles)"
   ]
  },
  {
   "cell_type": "code",
   "execution_count": 29,
   "metadata": {},
   "outputs": [],
   "source": [
    "NetMHCpan4_1_EL_predictions_50 = NetMHCpan4_1_EL(alleles=top_50_alleles_I).predict_peptides_dataframe(peptide_list_I)"
   ]
  },
  {
   "cell_type": "code",
   "execution_count": 31,
   "metadata": {},
   "outputs": [],
   "source": [
    "NetMHCpan4_1_EL_predictions_50.to_csv('NetMHCpan4_1_EL_predictions_50.csv')"
   ]
  },
  {
   "cell_type": "code",
   "execution_count": 32,
   "metadata": {},
   "outputs": [],
   "source": [
    "NetMHCpan4_1_EL_predictions_50_100 = NetMHCpan4_1_EL(alleles=top_50_100_alleles_I).predict_peptides_dataframe(peptide_list_I)"
   ]
  },
  {
   "cell_type": "code",
   "execution_count": 33,
   "metadata": {},
   "outputs": [],
   "source": [
    "NetMHCpan4_1_EL_predictions_50_100.to_csv('NetMHCpan4_1_EL_predictions_50_100.csv')"
   ]
  },
  {
   "cell_type": "code",
   "execution_count": 35,
   "metadata": {},
   "outputs": [],
   "source": [
    "NetMHCIIpan4_EL_predictions_50 = NetMHCIIpan4_EL(alleles=top_50_alleles_II).predict_peptides_dataframe(peptide_list_II)"
   ]
  },
  {
   "cell_type": "code",
   "execution_count": 36,
   "metadata": {},
   "outputs": [],
   "source": [
    "NetMHCIIpan4_EL_predictions_50.to_csv('NetMHCIIpan4_EL_predictions_50.csv')"
   ]
  },
  {
   "cell_type": "code",
   "execution_count": 37,
   "metadata": {},
   "outputs": [],
   "source": [
    "NetMHCIIpan4_EL_predictions_50_100 = NetMHCIIpan4_EL(alleles=top_50_100_alleles_II).predict_peptides_dataframe(peptide_list_II)"
   ]
  },
  {
   "cell_type": "code",
   "execution_count": 38,
   "metadata": {},
   "outputs": [],
   "source": [
    "NetMHCIIpan4_EL_predictions_50_100.to_csv('NetMHCIIpan4_EL_predictions_50_100.csv')"
   ]
  },
  {
   "cell_type": "code",
   "execution_count": 52,
   "metadata": {},
   "outputs": [],
   "source": [
    "NetMHC_predictions_merged_50 = pd.concat([NetMHCpan4_1_EL_predictions_50, NetMHCIIpan4_EL_predictions_50])\n",
    "NetMHC_predictions_merged_100 = pd.concat([NetMHC_predictions_merged_50, NetMHCpan4_1_EL_predictions_50_100, NetMHCIIpan4_EL_predictions_50_100])"
   ]
  },
  {
   "cell_type": "markdown",
   "metadata": {},
   "source": [
    "<br />\n",
    "\n",
    "## Add NetMHC presentation predictions to the T-cell response datasest"
   ]
  },
  {
   "cell_type": "code",
   "execution_count": 630,
   "metadata": {},
   "outputs": [],
   "source": [
    "def fill_in_default_allele(mhc_allele, mhc_class):\n",
    "    if pd.notna(mhc_allele):\n",
    "        return mhc_allele\n",
    "    elif mhc_class == 'I':\n",
    "        return 'default allele I'\n",
    "    else:\n",
    "        return 'default allele II'"
   ]
  },
  {
   "cell_type": "code",
   "execution_count": 701,
   "metadata": {},
   "outputs": [],
   "source": [
    "def fill_in_mhc_class(mhc_predictor, mhc_class):\n",
    "    if mhc_predictor == 'netMHCpan':\n",
    "        return 'I'\n",
    "    elif mhc_predictor == 'netMHCIIpan':\n",
    "        return 'II'\n",
    "    else:\n",
    "        return mhc_class"
   ]
  },
  {
   "cell_type": "code",
   "execution_count": 39,
   "metadata": {},
   "outputs": [],
   "source": [
    "NetMHC_I_predictions_merged = pd.concat([NetMHCpan4_1_EL_predictions_50, NetMHCpan4_1_EL_predictions_50_100])\n",
    "NetMHC_II_predictions_merged = pd.concat([NetMHCIIpan4_EL_predictions_50, NetMHCIIpan4_EL_predictions_50_100])"
   ]
  },
  {
   "cell_type": "code",
   "execution_count": 48,
   "metadata": {},
   "outputs": [],
   "source": [
    "NetMHC_I_predictions_merged.to_csv('NetMHC_I_predictions_merged.csv')"
   ]
  },
  {
   "cell_type": "code",
   "execution_count": 49,
   "metadata": {},
   "outputs": [],
   "source": [
    "NetMHC_II_predictions_merged.to_csv('NetMHC_II_predictions_merged.csv')"
   ]
  },
  {
   "cell_type": "code",
   "execution_count": 704,
   "metadata": {
    "tags": []
   },
   "outputs": [],
   "source": [
    "def add_predicted_alleles(original_df, mhctools_df):\n",
    "    weak_binders = mhctools_df.loc[mhctools_df['percentile_rank'] <= 2.]\n",
    "    \n",
    "    # Add rows for each peptide:MHC combination for evaluation\n",
    "    prediction_df = weak_binders[['peptide', 'allele', 'prediction_method_name']].copy()\n",
    "    prediction_df.columns = ['Epitope Description', 'MHC Allele Prediction', 'MHC Predictor Name']\n",
    "    combined_df = original_df.merge(prediction_df, how='left', on=['Epitope Description'])\n",
    "    \n",
    "    # Reassign the correct MHC class since some peptides have both class I and II alleles.\n",
    "    combined_df['MHC Class'] = combined_df[['MHC Predictor Name', 'MHC Class']].apply(\n",
    "        lambda row: fill_in_mhc_class(row['MHC Predictor Name'], row['MHC Class']), axis=1)\n",
    "    \n",
    "    combined_df['MHC Allele Prediction'] = combined_df[['MHC Allele Prediction', 'MHC Class']].apply(\n",
    "        lambda row: fill_in_default_allele(row['MHC Allele Prediction'], row['MHC Class']), axis=1)\n",
    "    \n",
    "    # Add list of predicted alleles to each peptide for training\n",
    "    alleles_dict = {}\n",
    "    for peptide, peptide_df in weak_binders.groupby(['peptide']):\n",
    "        alleles_dict[peptide] = list(peptide_df['allele'].unique())\n",
    "    \n",
    "    combined_df['MHC Allele Prediction - List'] = combined_df[['Epitope Description', 'MHC Allele Prediction']].apply(\n",
    "        lambda row: alleles_dict[row['Epitope Description']] if row['Epitope Description'] in alleles_dict else [row['MHC Allele Prediction']], axis=1)\n",
    "    \n",
    "    combined_df['MHC Allele Prediction - Count'] = combined_df['MHC Allele Prediction - List'].apply(\n",
    "        lambda allele_list: len(allele_list))\n",
    "    \n",
    "    # Add minimum of predicted percentile ranks among all tested alleles\n",
    "    # This can be used as MHC presentation feature\n",
    "    min_predictions_dict = {}\n",
    "    for peptide, peptide_df in mhctools_df.groupby(['peptide']):\n",
    "        min_predictions_dict[peptide] = peptide_df['percentile_rank'].min()\n",
    "    combined_df['MHC Allele Prediction - Min Percentile Rank'] = combined_df['Epitope Description'].apply(\n",
    "        lambda pep: min_predictions_dict[pep])\n",
    "    \n",
    "    assert len(combined_df) == combined_df.drop_duplicates(['Epitope Description'])['MHC Allele Prediction - Count'].sum()\n",
    "        \n",
    "    return combined_df, weak_binders"
   ]
  },
  {
   "cell_type": "code",
   "execution_count": 705,
   "metadata": {},
   "outputs": [],
   "source": [
    "df_tcell_MHC_pred_100, NetMHC_weak_binders_100 = add_predicted_alleles(df_tcell_unique_pep, NetMHC_predictions_merged_100)"
   ]
  },
  {
   "cell_type": "markdown",
   "metadata": {},
   "source": [
    "<br />\n",
    "\n",
    "### Save dataset with added MHC bindingn predictions to file (without nested CV splits)"
   ]
  },
  {
   "cell_type": "code",
   "execution_count": 715,
   "metadata": {},
   "outputs": [],
   "source": [
    "df_tcell_MHC_pred_100.to_csv(f'../data/thesis/full_dataset_100_all_cols.csv')"
   ]
  },
  {
   "cell_type": "markdown",
   "metadata": {},
   "source": [
    "### Load saved dataset to skip previous steps"
   ]
  },
  {
   "cell_type": "code",
   "execution_count": 2,
   "metadata": {},
   "outputs": [],
   "source": [
    "df_tcell_MHC_pred_100 = pd.read_csv(f'../data/thesis/full_dataset_100_all_cols.csv', index_col=0, low_memory=False)"
   ]
  },
  {
   "cell_type": "code",
   "execution_count": 4,
   "metadata": {},
   "outputs": [],
   "source": [
    "df_tcell_MHC_pred_100_unique = df_tcell_MHC_pred_100.drop_duplicates(subset=['Epitope Description'])"
   ]
  },
  {
   "cell_type": "markdown",
   "metadata": {},
   "source": [
    "<br />\n",
    "\n",
    "## Identification of peptide clusters based on common k-mers"
   ]
  },
  {
   "cell_type": "code",
   "execution_count": 66,
   "metadata": {},
   "outputs": [],
   "source": [
    "def generate_k_mers(peptide, k=9):\n",
    "    for i in range(len(peptide) - k + 1):\n",
    "        yield peptide[i:k+i]"
   ]
  },
  {
   "cell_type": "code",
   "execution_count": 67,
   "metadata": {},
   "outputs": [],
   "source": [
    "def common_k_mer_graph(peptide_list):\n",
    "    edges = []\n",
    "    for i in range(len(peptide_list)):\n",
    "        peptide_1 = peptide_list[i]\n",
    "        peptide_1_k_mers = list(generate_k_mers(peptide_1))\n",
    "        for peptide_2 in peptide_list[i+1:]:\n",
    "            for k_mer in peptide_1_k_mers:\n",
    "                if k_mer in peptide_2:\n",
    "                    edges.append((peptide_1, peptide_2))\n",
    "                    # if at least one common k-mer is found, we can continue with the next peptide\n",
    "                    break\n",
    "    return edges"
   ]
  },
  {
   "cell_type": "code",
   "execution_count": 68,
   "metadata": {},
   "outputs": [],
   "source": [
    "def get_peptide_clusters(df_tcell):\n",
    "    # peptides correspond to the same cluster if they share a 9-mer\n",
    "    unique_peptides = df_tcell['Epitope Description'].drop_duplicates()\n",
    "    unique_long_peptides = unique_peptides[unique_peptides.str.len() >= 9].to_list()\n",
    "    \n",
    "    # construct a peptide graph, where two peptides are connected by an edge if they share a 9-mer\n",
    "    common_k_mer_edges = common_k_mer_graph(unique_long_peptides)\n",
    "    peptide_graph = nx.Graph()\n",
    "    peptide_graph.add_edges_from(common_k_mer_edges)\n",
    "    \n",
    "    # peptide clusters correspond to connected components of the peptide graph\n",
    "    peptide_clusters = list(nx.connected_components(peptide_graph))\n",
    "    \n",
    "    # peptides that do not occur in a cluster\n",
    "    single_peptides = list(set(unique_peptides) - set(peptide_graph.nodes))\n",
    "    \n",
    "    return single_peptides, peptide_clusters"
   ]
  },
  {
   "cell_type": "code",
   "execution_count": 69,
   "metadata": {},
   "outputs": [],
   "source": [
    "single_peptides, peptide_clusters = get_peptide_clusters(df_tcell_unique_pep)"
   ]
  },
  {
   "cell_type": "markdown",
   "metadata": {},
   "source": [
    "<br />\n",
    "\n",
    "## Nested cross validation splits"
   ]
  },
  {
   "cell_type": "code",
   "execution_count": 101,
   "metadata": {},
   "outputs": [],
   "source": [
    "def get_dataset(df_tcell, single_peptides, peptide_clusters, select_columns=True):\n",
    "    cluster_peptides = [peptide for peptide_cluster in peptide_clusters for peptide in peptide_cluster]\n",
    "    df_tcell_partition = df_tcell[df_tcell['Epitope Description'].isin(cluster_peptides + single_peptides)]\n",
    "    if select_columns:\n",
    "        columns = ['Epitope Description', 'MHC Class', 'MHC Allele Name', 'Epitope Parent Species',\n",
    "                   'MHC Allele Prediction', 'MHC Allele Prediction - List', 'MHC Allele Prediction - Count',\n",
    "                   'MHC Allele Prediction - Min Percentile Rank', 'Assay Qualitative Measure']\n",
    "        return df_tcell_partition[columns]\n",
    "    else:\n",
    "        return df_tcell_partition"
   ]
  },
  {
   "cell_type": "code",
   "execution_count": 102,
   "metadata": {},
   "outputs": [],
   "source": [
    "def generate_cv_split(single_peptides, peptide_clusters, k):\n",
    "    peptide_partitions = []\n",
    "    cluster_partitions = []\n",
    "    \n",
    "    for fold in range(k):\n",
    "        single_min_idx = math.floor(len(single_peptides)*fold/k)\n",
    "        single_max_idx = math.floor(len(single_peptides)*(fold+1)/k)\n",
    "        cluster_min_idx = math.floor(len(peptide_clusters)*fold/k)\n",
    "        cluster_max_idx = math.floor(len(peptide_clusters)*(fold+1)/k)\n",
    "        \n",
    "        # peptide_clusters and single_peptides are assumed to be shuffled already\n",
    "        single_peptide_slice = single_peptides[single_min_idx:single_max_idx]\n",
    "        peptide_cluster_slice = peptide_clusters[cluster_min_idx:cluster_max_idx]\n",
    "        \n",
    "        peptide_partitions.append(single_peptide_slice)\n",
    "        cluster_partitions.append(peptide_cluster_slice)\n",
    "        \n",
    "    return peptide_partitions, cluster_partitions"
   ]
  },
  {
   "cell_type": "code",
   "execution_count": 643,
   "metadata": {},
   "outputs": [],
   "source": [
    "def generate_datasets(df_tcell, folder_name, single_peptides, peptide_clusters):\n",
    "    outer_k = 5\n",
    "    inner_k = 4\n",
    "    \n",
    "    Path(f'../data/{folder_name}/').mkdir(parents=True, exist_ok=True)\n",
    "    \n",
    "    outer_peptide_partitions, outer_cluster_partitions = generate_cv_split(single_peptides, peptide_clusters, outer_k)\n",
    "    for i in range(outer_k):\n",
    "        single_peptides_test = outer_peptide_partitions[i]\n",
    "        peptide_clusters_test = outer_cluster_partitions[i]\n",
    "        single_peptides_outer_train = list(itertools.chain(*[outer_peptide_partitions[l] for l in range(outer_k) if l != i]))\n",
    "        peptide_clusters_outer_train = list(itertools.chain(*[outer_cluster_partitions[l] for l in range(outer_k) if l != i]))\n",
    "        inner_peptide_partitions, inner_cluster_partitions = generate_cv_split(single_peptides_outer_train, peptide_clusters_outer_train, inner_k)\n",
    "        \n",
    "        test_outer_data = get_dataset(df_tcell, single_peptides_test, peptide_clusters_test)\n",
    "        test_outer_data.to_csv(f'../data/{folder_name}/test_outer_{i}.csv')\n",
    "        train_outer_data = get_dataset(df_tcell, single_peptides_outer_train, peptide_clusters_outer_train)\n",
    "        train_outer_data.to_csv(f'../data/{folder_name}/train_outer_{i}.csv')\n",
    "        \n",
    "        assert len(df_tcell) == len(test_outer_data) + len(train_outer_data)\n",
    "        \n",
    "        for j in range(inner_k):\n",
    "            valid_inner_data = get_dataset(df_tcell, inner_peptide_partitions[j], inner_cluster_partitions[j])\n",
    "            valid_inner_data.to_csv(f'../data/{folder_name}/valid_outer_{i}_inner_{j}.csv')\n",
    "            single_peptides_inner_train = list(itertools.chain(*[inner_peptide_partitions[l] for l in range(inner_k) if l != j]))\n",
    "            peptide_clusters_inner_train = list(itertools.chain(*[inner_cluster_partitions[l] for l in range(inner_k) if l != j]))\n",
    "            train_inner_data = get_dataset(df_tcell, single_peptides_inner_train, peptide_clusters_inner_train)\n",
    "            train_inner_data.to_csv(f'../data/{folder_name}/train_outer_{i}_inner_{j}.csv')\n",
    "            assert len(train_outer_data) == len(valid_inner_data) + len(train_inner_data)"
   ]
  },
  {
   "cell_type": "markdown",
   "metadata": {},
   "source": [
    "### Final datasets with peptide clusters based on connected components of the peptide graph"
   ]
  },
  {
   "cell_type": "code",
   "execution_count": 719,
   "metadata": {},
   "outputs": [],
   "source": [
    "random.shuffle(peptide_clusters)\n",
    "random.shuffle(single_peptides)"
   ]
  },
  {
   "cell_type": "code",
   "execution_count": 720,
   "metadata": {},
   "outputs": [],
   "source": [
    "generate_datasets(df_tcell_MHC_pred_100, 'nested_cv_thesis', single_peptides, peptide_clusters)"
   ]
  },
  {
   "cell_type": "markdown",
   "metadata": {},
   "source": [
    "<br />\n",
    "\n",
    "## Statistics on created data set"
   ]
  },
  {
   "cell_type": "markdown",
   "metadata": {},
   "source": [
    "### Number of positives/negatives per MHC class"
   ]
  },
  {
   "cell_type": "code",
   "execution_count": 8,
   "metadata": {},
   "outputs": [
    {
     "name": "stdout",
     "output_type": "stream",
     "text": [
      "MHC Class I Positives: 4460\n",
      "MHC Class I Negatives: 12697\n",
      "MHC Class II Positives: 10247\n",
      "MHC Class II Negatives: 8207\n"
     ]
    }
   ],
   "source": [
    "class_I_allele = df_tcell_unique_pep['MHC Class'] == 'I'\n",
    "positive_response = df_tcell_unique_pep['Assay Qualitative Measure'] == 'Positive'\n",
    "print(f\"MHC Class I Positives: {len(df_tcell_unique_pep.loc[class_I_allele & positive_response])}\")\n",
    "print(f\"MHC Class I Negatives: {len(df_tcell_unique_pep.loc[class_I_allele & ~positive_response])}\")\n",
    "print(f\"MHC Class II Positives: {len(df_tcell_unique_pep.loc[~class_I_allele & positive_response])}\")\n",
    "print(f\"MHC Class II Negatives: {len(df_tcell_unique_pep.loc[~class_I_allele & ~positive_response])}\")"
   ]
  },
  {
   "cell_type": "markdown",
   "metadata": {},
   "source": [
    "<br />\n",
    "\n",
    "### Original MHC alleles in the dataset"
   ]
  },
  {
   "cell_type": "code",
   "execution_count": 9,
   "metadata": {},
   "outputs": [
    {
     "data": {
      "text/plain": [
       "21093"
      ]
     },
     "execution_count": 9,
     "metadata": {},
     "output_type": "execute_result"
    }
   ],
   "source": [
    "# number of peptides without MHC allele\n",
    "len(df_tcell_consistent.loc[df_tcell_consistent['MHC Allele Name'].isna(), 'Epitope Description'].unique())"
   ]
  },
  {
   "cell_type": "code",
   "execution_count": 10,
   "metadata": {},
   "outputs": [
    {
     "data": {
      "image/png": "[encoded data removed]",
      "text/plain": [
       "<Figure size 432x288 with 1 Axes>"
      ]
     },
     "metadata": {
      "needs_background": "light"
     },
     "output_type": "display_data"
    }
   ],
   "source": [
    "# considering only peptides with specified MHC allele\n",
    "ax = df_tcell_consistent.loc[df_tcell_consistent['MHC Allele Name'].notna()].groupby(['Epitope Description']).size().hist(bins=31, range=(1, 16))\n",
    "ax.set_xlabel(\"Number of MHC alleles per peptide\", size=12)\n",
    "_ = ax.set_ylabel(\"Number of peptides\", size=12)"
   ]
  },
  {
   "cell_type": "code",
   "execution_count": 11,
   "metadata": {},
   "outputs": [
    {
     "data": {
      "image/png": "[encoded data removed]",
      "text/plain": [
       "<Figure size 1800x504 with 1 Axes>"
      ]
     },
     "metadata": {
      "needs_background": "light"
     },
     "output_type": "display_data"
    }
   ],
   "source": [
    "ax = df_tcell_consistent['MHC Allele Name'].value_counts().iloc[:100].plot.bar(figsize=(25,7))\n",
    "ax.set_xlabel(\"Selection of the 100 most frequent MHC alleles in the dataset\", size=16)\n",
    "_ = ax.set_ylabel(\"Number of peptides per MHC allele\", size=16)"
   ]
  },
  {
   "cell_type": "code",
   "execution_count": 12,
   "metadata": {},
   "outputs": [
    {
     "data": {
      "text/plain": [
       "225"
      ]
     },
     "execution_count": 12,
     "metadata": {},
     "output_type": "execute_result"
    }
   ],
   "source": [
    "# Total number of MHC alleles\n",
    "len(df_tcell_consistent['MHC Allele Name'].unique())"
   ]
  },
  {
   "cell_type": "code",
   "execution_count": 13,
   "metadata": {},
   "outputs": [
    {
     "data": {
      "text/plain": [
       "0.9308474576271186"
      ]
     },
     "execution_count": 13,
     "metadata": {},
     "output_type": "execute_result"
    }
   ],
   "source": [
    "# Fraction of peptide:MHC combinations covered by the 50 most frequent MHC alleles\n",
    "df_tcell_consistent['MHC Allele Name'].value_counts().iloc[:50].sum()/len(df_tcell_consistent.loc[df_tcell_consistent['MHC Allele Name'].notna()])"
   ]
  },
  {
   "cell_type": "code",
   "execution_count": 14,
   "metadata": {},
   "outputs": [
    {
     "data": {
      "text/plain": [
       "0.9871751412429378"
      ]
     },
     "execution_count": 14,
     "metadata": {},
     "output_type": "execute_result"
    }
   ],
   "source": [
    "# Fraction of peptide:MHC combinations covered by the 100 most frequent MHC alleles\n",
    "df_tcell_consistent['MHC Allele Name'].value_counts().iloc[:100].sum()/len(df_tcell_consistent.loc[df_tcell_consistent['MHC Allele Name'].notna()])"
   ]
  },
  {
   "cell_type": "markdown",
   "metadata": {},
   "source": [
    "<br />\n",
    "\n",
    "### Distribution of peptide lengths"
   ]
  },
  {
   "cell_type": "code",
   "execution_count": 33,
   "metadata": {},
   "outputs": [],
   "source": [
    "class_I_pep_len = df_tcell_MHC_pred_100_unique.loc[df_tcell_MHC_pred_100_unique['Epitope Parent Species'] == 'Human betaherpesvirus 6B', 'Epitope Description'].str.len().value_counts().to_frame().sort_index().reset_index()\n",
    "class_II_pep_len = df_tcell_MHC_pred_100_unique.loc[df_tcell_MHC_pred_100_unique['Epitope Parent Species'] == 'Vaccinia virus', 'Epitope Description'].str.len().value_counts().to_frame().sort_index().reset_index()\n",
    "class_I_pep_len.columns = ['Peptide length', 'Betaherpes']\n",
    "class_II_pep_len.columns = ['Peptide length', 'Vaccinia']\n",
    "pep_len_df = class_I_pep_len.merge(class_II_pep_len, how='outer', on=['Peptide length']).set_index('Peptide length').fillna(0).astype(int)"
   ]
  },
  {
   "cell_type": "code",
   "execution_count": 315,
   "metadata": {},
   "outputs": [
    {
     "data": {
      "text/html": [
       "<div>\n",
       "<style scoped>\n",
       "    .dataframe tbody tr th:only-of-type {\n",
       "        vertical-align: middle;\n",
       "    }\n",
       "\n",
       "    .dataframe tbody tr th {\n",
       "        vertical-align: top;\n",
       "    }\n",
       "\n",
       "    .dataframe thead th {\n",
       "        text-align: right;\n",
       "    }\n",
       "</style>\n",
       "<table border=\"1\" class=\"dataframe\">\n",
       "  <thead>\n",
       "    <tr style=\"text-align: right;\">\n",
       "      <th>Peptide length</th>\n",
       "      <th>8</th>\n",
       "      <th>9</th>\n",
       "      <th>10</th>\n",
       "      <th>11</th>\n",
       "      <th>12</th>\n",
       "      <th>13</th>\n",
       "      <th>14</th>\n",
       "      <th>15</th>\n",
       "      <th>16</th>\n",
       "      <th>17</th>\n",
       "      <th>18</th>\n",
       "      <th>19</th>\n",
       "      <th>20</th>\n",
       "      <th>21</th>\n",
       "      <th>22</th>\n",
       "      <th>23</th>\n",
       "      <th>24</th>\n",
       "      <th>25</th>\n",
       "    </tr>\n",
       "  </thead>\n",
       "  <tbody>\n",
       "    <tr>\n",
       "      <th>MHC class I</th>\n",
       "      <td>352</td>\n",
       "      <td>8412</td>\n",
       "      <td>3963</td>\n",
       "      <td>342</td>\n",
       "      <td>59</td>\n",
       "      <td>49</td>\n",
       "      <td>38</td>\n",
       "      <td>3942</td>\n",
       "      <td>0</td>\n",
       "      <td>0</td>\n",
       "      <td>0</td>\n",
       "      <td>0</td>\n",
       "      <td>0</td>\n",
       "      <td>0</td>\n",
       "      <td>0</td>\n",
       "      <td>0</td>\n",
       "      <td>0</td>\n",
       "      <td>0</td>\n",
       "    </tr>\n",
       "    <tr>\n",
       "      <th>MHC class II</th>\n",
       "      <td>0</td>\n",
       "      <td>119</td>\n",
       "      <td>36</td>\n",
       "      <td>63</td>\n",
       "      <td>201</td>\n",
       "      <td>492</td>\n",
       "      <td>188</td>\n",
       "      <td>8135</td>\n",
       "      <td>260</td>\n",
       "      <td>912</td>\n",
       "      <td>5853</td>\n",
       "      <td>441</td>\n",
       "      <td>1398</td>\n",
       "      <td>91</td>\n",
       "      <td>31</td>\n",
       "      <td>27</td>\n",
       "      <td>46</td>\n",
       "      <td>161</td>\n",
       "    </tr>\n",
       "  </tbody>\n",
       "</table>\n",
       "</div>"
      ],
      "text/plain": [
       "Peptide length   8     9     10   11   12   13   14    15   16   17    18  \\\n",
       "MHC class I     352  8412  3963  342   59   49   38  3942    0    0     0   \n",
       "MHC class II      0   119    36   63  201  492  188  8135  260  912  5853   \n",
       "\n",
       "Peptide length   19    20  21  22  23  24   25  \n",
       "MHC class I       0     0   0   0   0   0    0  \n",
       "MHC class II    441  1398  91  31  27  46  161  "
      ]
     },
     "execution_count": 315,
     "metadata": {},
     "output_type": "execute_result"
    }
   ],
   "source": [
    "pep_len_df.T"
   ]
  },
  {
   "cell_type": "code",
   "execution_count": 854,
   "metadata": {},
   "outputs": [],
   "source": [
    "from matplotlib import rcParams\n",
    "rcParams['font.family'] = 'sans-serif'\n",
    "rcParams['font.sans-serif'] = ['Helvetica']\n",
    "rcParams['axes.titlepad'] = 15\n",
    "rcParams['axes.titlesize'] = 16\n",
    "rcParams.update({'font.size': 15})"
   ]
  },
  {
   "cell_type": "code",
   "execution_count": 496,
   "metadata": {},
   "outputs": [
    {
     "data": {
      "image/png": "[encoded data removed]",
      "text/plain": [
       "<Figure size 720x288 with 1 Axes>"
      ]
     },
     "metadata": {
      "needs_background": "light"
     },
     "output_type": "display_data"
    }
   ],
   "source": [
    "pep_len_df.plot.bar(figsize=(10, 4), logy=True, title='Distribution of peptide lengths', rot=0)\n",
    "plt.tight_layout()\n",
    "plt.ylabel(\"Number of peptides\")\n",
    "plt.savefig('../thesis/figures/pep_len_dist.pdf')"
   ]
  },
  {
   "cell_type": "code",
   "execution_count": 42,
   "metadata": {},
   "outputs": [
    {
     "data": {
      "text/plain": [
       "Text(60.170390624999996, 0.5, 'Number of peptides')"
      ]
     },
     "execution_count": 42,
     "metadata": {},
     "output_type": "execute_result"
    },
    {
     "data": {
      "image/png": "[encoded data removed]",
      "text/plain": [
       "<Figure size 720x288 with 1 Axes>"
      ]
     },
     "metadata": {
      "needs_background": "light"
     },
     "output_type": "display_data"
    }
   ],
   "source": [
    "pep_len_df.sort_index().plot.bar(figsize=(10, 4), logy=True, title='Distribution of peptide lengths', rot=0)\n",
    "plt.tight_layout()\n",
    "plt.ylabel(\"Number of peptides\")"
   ]
  },
  {
   "cell_type": "markdown",
   "metadata": {},
   "source": [
    "### Peptide source distribution"
   ]
  },
  {
   "cell_type": "code",
   "execution_count": 14,
   "metadata": {},
   "outputs": [],
   "source": [
    "from matplotlib import rcParams\n",
    "rcParams['font.family'] = 'sans-serif'\n",
    "rcParams['font.sans-serif'] = ['Helvetica']\n",
    "rcParams['axes.titlepad'] = 15\n",
    "rcParams['axes.titlesize'] = 16\n",
    "rcParams.update({'font.size': 15})"
   ]
  },
  {
   "cell_type": "code",
   "execution_count": 761,
   "metadata": {},
   "outputs": [],
   "source": [
    "allele_pos_neg_count = get_values_per_column(df_tcell_MHC_pred_100_unique, 'Epitope Parent Species')\n",
    "allele_pos_neg_count['Sum'] = allele_pos_neg_count['Positives'] + allele_pos_neg_count['Negatives']"
   ]
  },
  {
   "cell_type": "code",
   "execution_count": 116,
   "metadata": {},
   "outputs": [
    {
     "data": {
      "image/png": "[encoded data removed]",
      "text/plain": [
       "<Figure size 720x504 with 1 Axes>"
      ]
     },
     "metadata": {
      "needs_background": "light"
     },
     "output_type": "display_data"
    }
   ],
   "source": [
    "allele_pos_neg_count = get_values_per_column(df_tcell_MHC_pred_100_unique, 'Epitope Parent Species')\n",
    "allele_pos_neg_count['Sum'] = allele_pos_neg_count['Positives'] + allele_pos_neg_count['Negatives']\n",
    "# Use the SARS abbreviation\n",
    "as_list = allele_pos_neg_count.index.tolist()\n",
    "sars2_idx = as_list.index('Severe acute respiratory syndrome coronavirus 2')\n",
    "as_list[sars2_idx] = 'SARS coronavirus 2'\n",
    "allele_pos_neg_count.index = as_list\n",
    "# _ = allele_pos_neg_count.iloc[:50].plot.bar(stacked=True, figsize=(13,8))\n",
    "_ = allele_pos_neg_count.sort_values(['Sum'], ascending=False)[['Positives', 'Negatives']].rename(columns={\"Positives\": \"T-cell response positive\", \"Negatives\": \"T-cell response negative\"}).iloc[:20].plot.bar(stacked=True, figsize=(10,7))\n",
    "plt.title('Distribution of positive/negative instances per peptide source', fontsize=18)\n",
    "plt.ylabel(\"Number of peptides\")\n",
    "plt.tight_layout()\n",
    "# plt.savefig('../thesis/figures/source_distribution.pdf')"
   ]
  },
  {
   "cell_type": "markdown",
   "metadata": {},
   "source": [
    "### Allele distribution"
   ]
  },
  {
   "cell_type": "code",
   "execution_count": 494,
   "metadata": {},
   "outputs": [
    {
     "data": {
      "image/png": "[encoded data removed]",
      "text/plain": [
       "<Figure size 720x504 with 1 Axes>"
      ]
     },
     "metadata": {
      "needs_background": "light"
     },
     "output_type": "display_data"
    }
   ],
   "source": [
    "# single_alleles = ['HLA-C*07:02', 'HLA-A*02:01', 'HLA-A*29:02', 'HLA-A*24:07', 'HLA-A*11:01', 'HLA-B*08:01', 'HLA-B*44:02', 'HLA-B*07:02', 'HLA-A*33:01', 'default allele II', 'HLA-DRA1*01:01-DRB1*16:02', 'HLA-DRA1*01:01-DRB1*09:01', 'HLA-DRA1*01:01-DRB3*02:02', 'HLA-DRA1*01:01-DRB5*01:01', 'HLA-DRA1*01:01-DRB1*11:01', 'HLA-DRA1*01:01-DRB1*12:01', 'HLA-DPA1*01:03-DPB1*02:01', 'HLA-DRA1*01:01-DRB1*03:01', 'HLA-DQA1*01:02-DQB1*06:02']\n",
    "single_alleles_I = ['HLA-C*07:02', 'HLA-A*02:01', 'HLA-A*11:01', 'HLA-B*44:02', 'HLA-B*07:02', 'HLA-A*29:02', 'HLA-A*24:07', 'HLA-B*08:01', 'HLA-A*33:01', 'HLA-A*68:02', 'HLA-B*57:01', 'HLA-B*40:01', 'HLA-A*03:01', 'HLA-A*01:01']\n",
    "single_alleles_II = ['HLA-DRA1*01:01-DRB1*16:02', 'HLA-DRA1*01:01-DRB3*02:02', 'HLA-DPA1*01:03-DPB1*02:01', 'HLA-DRA1*01:01-DRB1*11:01', 'HLA-DRA1*01:01-DRB1*09:01', 'HLA-DRA1*01:01-DRB1*03:01', 'HLA-DRA1*01:01-DRB1*12:01', 'HLA-DQA1*01:02-DQB1*06:02', 'HLA-DRA1*01:01-DRB5*01:01', 'HLA-DRA1*01:01-DRB1*04:05', 'HLA-DRA1*01:01-DRB1*15:01', 'HLA-DPA1*01:03-DPB1*03:01', 'HLA-DRA1*01:01-DRB1*04:04', 'HLA-DRA1*01:01-DRB3*01:01']\n",
    "single_alleles = single_alleles_I + single_alleles_II\n",
    "allele_pos_neg_count = get_values_per_column(df_tcell_MHC_pred_100.loc[df_tcell_MHC_pred_100['MHC Allele Prediction'].isin(single_alleles)], 'MHC Allele Prediction')\n",
    "allele_pos_neg_count['Sum'] = allele_pos_neg_count['Positives'] + allele_pos_neg_count['Negatives']\n",
    "_ = allele_pos_neg_count.sort_values(['Sum'], ascending=False)[['Positives', 'Negatives']].rename(columns={\"Positives\": \"T-cell response positive\", \"Negatives\": \"T-cell response negative\"}).plot.bar(stacked=True, figsize=(10,7))\n",
    "plt.title('Distribution of positive/negative instances per MHC allele', fontsize=18)\n",
    "plt.ylabel(\"Number of peptides\")\n",
    "plt.tight_layout()\n",
    "plt.savefig('../thesis/figures/allele_distribution.pdf')\n"
   ]
  },
  {
   "cell_type": "code",
   "execution_count": 70,
   "metadata": {},
   "outputs": [],
   "source": [
    "peptide_clusters_sorted = sorted(peptide_clusters, key=lambda cluster: len(cluster), reverse=True)"
   ]
  },
  {
   "cell_type": "markdown",
   "metadata": {},
   "source": [
    "### Peptide clusters"
   ]
  },
  {
   "cell_type": "code",
   "execution_count": null,
   "metadata": {},
   "outputs": [],
   "source": [
    "# Table: Cluster size, Peptide source, Peptide source count, Share of peptide source"
   ]
  },
  {
   "cell_type": "code",
   "execution_count": 73,
   "metadata": {},
   "outputs": [
    {
     "name": "stdout",
     "output_type": "stream",
     "text": [
      "859\n"
     ]
    },
    {
     "data": {
      "text/plain": [
       "hepatitis C virus genotype 1a    704\n",
       "Hepacivirus C                    155\n",
       "Name: Epitope Parent Species, dtype: int64"
      ]
     },
     "metadata": {},
     "output_type": "display_data"
    },
    {
     "name": "stdout",
     "output_type": "stream",
     "text": [
      "846\n"
     ]
    },
    {
     "data": {
      "text/plain": [
       "Zika virus                              452\n",
       "Dengue virus                            348\n",
       "Yellow fever virus                       24\n",
       "Dengue virus 2 D2/SG/05K4155DK1/2005     11\n",
       "Japanese encephalitis virus               6\n",
       "Dengue virus type 1 Hawaii                2\n",
       "Dengue virus 2 S221                       2\n",
       "West Nile virus                           1\n",
       "Name: Epitope Parent Species, dtype: int64"
      ]
     },
     "metadata": {},
     "output_type": "display_data"
    },
    {
     "name": "stdout",
     "output_type": "stream",
     "text": [
      "560\n"
     ]
    },
    {
     "data": {
      "text/plain": [
       "Severe acute respiratory syndrome coronavirus 2    557\n",
       "SARS-CoV1                                            3\n",
       "Name: Epitope Parent Species, dtype: int64"
      ]
     },
     "metadata": {},
     "output_type": "display_data"
    },
    {
     "name": "stdout",
     "output_type": "stream",
     "text": [
      "325\n"
     ]
    },
    {
     "data": {
      "text/plain": [
       "hepatitis C virus genotype 1a    271\n",
       "Hepacivirus C                     54\n",
       "Name: Epitope Parent Species, dtype: int64"
      ]
     },
     "metadata": {},
     "output_type": "display_data"
    },
    {
     "name": "stdout",
     "output_type": "stream",
     "text": [
      "299\n"
     ]
    },
    {
     "data": {
      "text/plain": [
       "Human alphaherpesvirus 2    297\n",
       "Human alphaherpesvirus 1      2\n",
       "Name: Epitope Parent Species, dtype: int64"
      ]
     },
     "metadata": {},
     "output_type": "display_data"
    },
    {
     "name": "stdout",
     "output_type": "stream",
     "text": [
      "285\n"
     ]
    },
    {
     "data": {
      "text/plain": [
       "Human alphaherpesvirus 2    284\n",
       "Human alphaherpesvirus 1      1\n",
       "Name: Epitope Parent Species, dtype: int64"
      ]
     },
     "metadata": {},
     "output_type": "display_data"
    },
    {
     "name": "stdout",
     "output_type": "stream",
     "text": [
      "254\n"
     ]
    },
    {
     "data": {
      "text/plain": [
       "Human betaherpesvirus 6B    235\n",
       "unknown                      18\n",
       "Human betaherpesvirus 6A      1\n",
       "Name: Epitope Parent Species, dtype: int64"
      ]
     },
     "metadata": {},
     "output_type": "display_data"
    },
    {
     "name": "stdout",
     "output_type": "stream",
     "text": [
      "215\n"
     ]
    },
    {
     "data": {
      "text/plain": [
       "Human betaherpesvirus 6B    209\n",
       "unknown                       6\n",
       "Name: Epitope Parent Species, dtype: int64"
      ]
     },
     "metadata": {},
     "output_type": "display_data"
    },
    {
     "name": "stdout",
     "output_type": "stream",
     "text": [
      "212\n"
     ]
    },
    {
     "data": {
      "text/plain": [
       "Vaccinia virus    211\n",
       "Variola virus       1\n",
       "Name: Epitope Parent Species, dtype: int64"
      ]
     },
     "metadata": {},
     "output_type": "display_data"
    },
    {
     "name": "stdout",
     "output_type": "stream",
     "text": [
      "211\n"
     ]
    },
    {
     "data": {
      "text/plain": [
       "Human alphaherpesvirus 2    180\n",
       "Human alphaherpesvirus 1     31\n",
       "Name: Epitope Parent Species, dtype: int64"
      ]
     },
     "metadata": {},
     "output_type": "display_data"
    }
   ],
   "source": [
    "for peptide_cluster in peptide_clusters_sorted[:10]:\n",
    "    print(len(peptide_cluster))\n",
    "    display(df_tcell_unique_pep.loc[df_tcell_unique_pep['Epitope Description'].isin(peptide_cluster), 'Epitope Parent Species'].value_counts())"
   ]
  },
  {
   "cell_type": "code",
   "execution_count": 80,
   "metadata": {},
   "outputs": [
    {
     "name": "stdout",
     "output_type": "stream",
     "text": [
      "A [704] hepatitis C virus genotype 1a\n",
      "A [155] Hepacivirus C\n",
      "\n",
      "B [452] Zika virus\n",
      "B [348] Dengue virus\n",
      "B [24] Yellow fever virus\n",
      "B [11] Dengue virus 2 D2/SG/05K4155DK1/2005\n",
      "B [6] Japanese encephalitis virus\n",
      "B [2] Dengue virus type 1 Hawaii\n",
      "B [2] Dengue virus 2 S221\n",
      "B [1] West Nile virus\n",
      "\n",
      "C [557] Severe acute respiratory syndrome coronavirus 2\n",
      "C [3] SARS-CoV1\n",
      "\n",
      "D [271] hepatitis C virus genotype 1a\n",
      "D [54] Hepacivirus C\n",
      "\n",
      "E [297] Human alphaherpesvirus 2\n",
      "E [2] Human alphaherpesvirus 1\n",
      "\n",
      "F [284] Human alphaherpesvirus 2\n",
      "F [1] Human alphaherpesvirus 1\n",
      "\n",
      "G [235] Human betaherpesvirus 6B\n",
      "G [18] unknown\n",
      "G [1] Human betaherpesvirus 6A\n",
      "\n",
      "H [209] Human betaherpesvirus 6B\n",
      "H [6] unknown\n",
      "\n",
      "I [211] Vaccinia virus\n",
      "I [1] Variola virus\n",
      "\n",
      "J [180] Human alphaherpesvirus 2\n",
      "J [31] Human alphaherpesvirus 1\n",
      "\n"
     ]
    }
   ],
   "source": [
    "letters = 'ABCDEFGHIJKLMNOPQRSTUVWXYZ'\n",
    "i = 0\n",
    "for peptide_cluster in peptide_clusters_sorted[:10]:\n",
    "    df_peptide_cluster = df_tcell_unique_pep.loc[df_tcell_unique_pep['Epitope Description'].isin(peptide_cluster), 'Epitope Parent Species'].value_counts()\n",
    "    for peptide_source, count in df_peptide_cluster.items():\n",
    "        if count > 0:\n",
    "            print(f'{letters[i]} [{count}] {peptide_source}')\n",
    "    i += 1\n",
    "    print('')\n",
    "    "
   ]
  },
  {
   "cell_type": "markdown",
   "metadata": {},
   "source": [
    "### Peptide cluster sizes"
   ]
  },
  {
   "cell_type": "code",
   "execution_count": 97,
   "metadata": {},
   "outputs": [],
   "source": [
    "def peptide_cluster_statistics(peptide_clusters, df_tcell):\n",
    "    # number of peptide:MHC instances per peptide cluster\n",
    "    cluster_instances_count = []\n",
    "    for peptide_cluster in peptide_clusters:\n",
    "        instance_count = df_tcell['Epitope Description'].isin(peptide_cluster).sum()\n",
    "        cluster_instances_count.append(instance_count)\n",
    "        \n",
    "    # number of clusters with given instance count\n",
    "    instance_count_df = pd.DataFrame({'#clusters': cluster_instances_count})['#clusters'].value_counts().to_frame().sort_index()\n",
    "    instance_count_df.index.name = 'number of peptides per cluster'\n",
    "    instance_count_df.columns = ['number of clusters with given size']\n",
    "    return instance_count_df.T"
   ]
  },
  {
   "cell_type": "code",
   "execution_count": 98,
   "metadata": {},
   "outputs": [
    {
     "data": {
      "text/html": [
       "<div>\n",
       "<style scoped>\n",
       "    .dataframe tbody tr th:only-of-type {\n",
       "        vertical-align: middle;\n",
       "    }\n",
       "\n",
       "    .dataframe tbody tr th {\n",
       "        vertical-align: top;\n",
       "    }\n",
       "\n",
       "    .dataframe thead th {\n",
       "        text-align: right;\n",
       "    }\n",
       "</style>\n",
       "<table border=\"1\" class=\"dataframe\">\n",
       "  <thead>\n",
       "    <tr style=\"text-align: right;\">\n",
       "      <th>number of peptides per cluster</th>\n",
       "      <th>2</th>\n",
       "      <th>3</th>\n",
       "      <th>4</th>\n",
       "      <th>5</th>\n",
       "      <th>6</th>\n",
       "      <th>7</th>\n",
       "      <th>8</th>\n",
       "      <th>9</th>\n",
       "      <th>10</th>\n",
       "      <th>11</th>\n",
       "      <th>...</th>\n",
       "      <th>211</th>\n",
       "      <th>212</th>\n",
       "      <th>215</th>\n",
       "      <th>254</th>\n",
       "      <th>285</th>\n",
       "      <th>299</th>\n",
       "      <th>325</th>\n",
       "      <th>560</th>\n",
       "      <th>846</th>\n",
       "      <th>859</th>\n",
       "    </tr>\n",
       "  </thead>\n",
       "  <tbody>\n",
       "    <tr>\n",
       "      <th>number of clusters with given size</th>\n",
       "      <td>1451</td>\n",
       "      <td>422</td>\n",
       "      <td>163</td>\n",
       "      <td>126</td>\n",
       "      <td>84</td>\n",
       "      <td>60</td>\n",
       "      <td>33</td>\n",
       "      <td>39</td>\n",
       "      <td>39</td>\n",
       "      <td>21</td>\n",
       "      <td>...</td>\n",
       "      <td>1</td>\n",
       "      <td>1</td>\n",
       "      <td>1</td>\n",
       "      <td>1</td>\n",
       "      <td>1</td>\n",
       "      <td>1</td>\n",
       "      <td>1</td>\n",
       "      <td>1</td>\n",
       "      <td>1</td>\n",
       "      <td>1</td>\n",
       "    </tr>\n",
       "  </tbody>\n",
       "</table>\n",
       "<p>1 rows × 99 columns</p>\n",
       "</div>"
      ],
      "text/plain": [
       "number of peptides per cluster       2    3    4    5    6    7    8    9    \\\n",
       "number of clusters with given size  1451  422  163  126   84   60   33   39   \n",
       "\n",
       "number of peptides per cluster      10   11   ...  211  212  215  254  285  \\\n",
       "number of clusters with given size   39   21  ...    1    1    1    1    1   \n",
       "\n",
       "number of peptides per cluster      299  325  560  846  859  \n",
       "number of clusters with given size    1    1    1    1    1  \n",
       "\n",
       "[1 rows x 99 columns]"
      ]
     },
     "execution_count": 98,
     "metadata": {},
     "output_type": "execute_result"
    }
   ],
   "source": [
    "peptide_cluster_statistics(peptide_clusters, df_tcell_unique_pep)"
   ]
  },
  {
   "cell_type": "markdown",
   "metadata": {},
   "source": [
    "<br />\n",
    "\n",
    "### Unit tests for the k-mer graph"
   ]
  },
  {
   "cell_type": "code",
   "execution_count": 99,
   "metadata": {},
   "outputs": [],
   "source": [
    "# unit tests for common_k_mer_graph()\n",
    "input_peptides = ['WITQCFLPVFLA', 'WITQCFLPV', 'PQCFLPVFLAP', 'AITQCFLPV', 'AITQCFLPVA']\n",
    "resulting_edges = common_k_mer_graph(input_peptides)\n",
    "\n",
    "assert ('WITQCFLPVFLA', 'WITQCFLPV') in resulting_edges\n",
    "assert ('WITQCFLPVFLA', 'PQCFLPVFLAP') in resulting_edges\n",
    "assert ('AITQCFLPV', 'AITQCFLPVA') in resulting_edges\n",
    "assert len(resulting_edges) == 3"
   ]
  },
  {
   "cell_type": "code",
   "execution_count": 100,
   "metadata": {},
   "outputs": [],
   "source": [
    "# unit tests for generate_k_mers()\n",
    "input_peptide = 'WITQCFLPVFL'\n",
    "k_mer_len = 9\n",
    "resulting_9mers = list(generate_k_mers(input_peptide, k=k_mer_len))\n",
    "\n",
    "assert k_mer_len == 9\n",
    "assert len(input_peptide) == 11\n",
    "assert len(resulting_9mers) == 3\n",
    "for peptide in resulting_9mers:\n",
    "    assert len(peptide) == 9\n",
    "    \n",
    "input_peptide = 'WITQCFLPV'\n",
    "k_mer_len = 9\n",
    "resulting_9mers = list(generate_k_mers(input_peptide, k=k_mer_len))\n",
    "\n",
    "assert k_mer_len == 9\n",
    "assert len(input_peptide) == 9\n",
    "assert len(resulting_9mers) == 1\n",
    "for peptide in resulting_9mers:\n",
    "    assert len(peptide) == 9"
   ]
  }
 ],
 "metadata": {
  "kernelspec": {
   "display_name": "Python 3",
   "language": "python",
   "name": "python3"
  },
  "language_info": {
   "codemirror_mode": {
    "name": "ipython",
    "version": 3
   },
   "file_extension": ".py",
   "mimetype": "text/x-python",
   "name": "python",
   "nbconvert_exporter": "python",
   "pygments_lexer": "ipython3",
   "version": "3.9.5"
  }
 },
 "nbformat": 4,
 "nbformat_minor": 4
}
